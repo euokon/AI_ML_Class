{
 "cells": [
  {
   "cell_type": "markdown",
   "id": "412a57f1",
   "metadata": {},
   "source": [
    "## POWER HOUSE\n",
    "scikit-learn"
   ]
  },
  {
   "cell_type": "code",
   "execution_count": 3,
   "id": "1986adfc",
   "metadata": {},
   "outputs": [],
   "source": [
    "# pip install scikit-learn"
   ]
  },
  {
   "cell_type": "markdown",
   "id": "4b8e978c",
   "metadata": {},
   "source": [
    "## Classification\n",
    "Classifying (examples)\n",
    "\n",
    "\n",
    "\n",
    "1. Linear  `y = mx + c`\n",
    "2. Non linear `quadratic` `x2 + 5x + c = number`\n",
    "\n",
    "The person will default on a loan or not ( age, gender, account balance)\n",
    "\n",
    "####  Linear Models\n",
    "1. Lasso\n",
    "2. Elastic-Net\n",
    "3. Logistic regression\n",
    "\n",
    "### Stochastic Gradient Descent\n",
    "4. Stochastic Gradient Descent - SGD\n",
    "\n",
    "5. Support Vector Machines \n",
    "### Nearest Neighbors\n",
    "6. Nearest Neighbors (KNN)\n",
    "7. Naive Bayes\n",
    "## Trees\n",
    "8. Decision Trees ( decision and random forest)\n",
    "\n",
    "## Ensemble  : \n",
    "combine tree models and mean of the total prediction \n",
    "\n",
    "## Neural network models (supervised)\n",
    "\n",
    "##  Multiclass and multioutput algorithms\n",
    "\n",
    "example : Classify the cutomer will be subscribe savings, current,dom, investment,\n",
    "\n",
    "if we have 30 retail products ( 0.65, 0.45, 0.95, 0.01)\n"
   ]
  },
  {
   "cell_type": "markdown",
   "id": "2c77b14e",
   "metadata": {},
   "source": [
    "0 or 1\n",
    "100% \n",
    "35% and 65%\n"
   ]
  },
  {
   "cell_type": "markdown",
   "id": "edf0178b",
   "metadata": {},
   "source": [
    "### Feature selection ( prepping data)"
   ]
  },
  {
   "attachments": {
    "image.png": {
     "image/png": "[encoded data removed]"
    }
   },
   "cell_type": "markdown",
   "id": "02f5c779",
   "metadata": {},
   "source": [
    "### Performance metrics\n",
    "‘roc_auc’,‘accuracy’,‘precision’,‘recall’ \n",
    "![image.png](attachment:image.png)"
   ]
  },
  {
   "cell_type": "markdown",
   "id": "579282dd",
   "metadata": {},
   "source": [
    "loan defaulters\n",
    "\n",
    "- TP ( 900, WILL COLLECT LOAN AND PAY BACK)\n",
    "- FP ( 400 WILL COLLECT LOAN AND PAYBACK) ( When you checked your training data it was false)\n",
    "- FN ( 700 YOU SAID THAT WILL NOT PAYBACK) but in reality they actually paid back\n",
    "- TN ( 500 the customers will not pay the loan , don't give them) when you get access to the customer credit score , you will see that they actually don't pay back their loans."
   ]
  },
  {
   "cell_type": "markdown",
   "id": "52fcabe1",
   "metadata": {},
   "source": [
    "\n",
    "\n",
    "precision = TruePositives / (TruePositives + FalsePositives)\n",
    "Recall = TruePositives / (TruePositives + FalseNegatives)\n",
    "accuracy (TP + TN) /( TP + TN + FalseNegatives + FalsePositives)"
   ]
  },
  {
   "cell_type": "code",
   "execution_count": 5,
   "id": "b8318bcf",
   "metadata": {},
   "outputs": [
    {
     "name": "stdout",
     "output_type": "stream",
     "text": [
      "69.23076923076923\n",
      "83.33333333333334\n",
      "51.85185185185185\n"
     ]
    }
   ],
   "source": [
    "print(900/(900 + 400) * 100)\n",
    "print(1000/(1000 + 200)* 100)\n",
    "print((900+ 500)/(900+ 500+ 900+400)* 100)"
   ]
  },
  {
   "cell_type": "code",
   "execution_count": 6,
   "id": "b715b468",
   "metadata": {},
   "outputs": [
    {
     "name": "stdout",
     "output_type": "stream",
     "text": [
      "92.10526315789474\n"
     ]
    }
   ],
   "source": [
    "print((900+ 500)/(900+ 500+ 100+20)* 100)"
   ]
  },
  {
   "cell_type": "markdown",
   "id": "5a184dd4",
   "metadata": {},
   "source": [
    "Supervised : You know your data label ( trying to predict loan, predict houses)\n",
    "\n",
    "Linear and non linear models\n",
    "1. Classification \n",
    "2. Regression\n",
    "3. Multilabel classification\n",
    "\n",
    "Unsupervised : Create a label ( clustering)\n",
    "\n",
    "Nine clusters ( mean salary, avg spend, dom balance) ( high spenders, low spenders, high class)"
   ]
  },
  {
   "cell_type": "markdown",
   "id": "07093c12",
   "metadata": {},
   "source": [
    "### Classification\n",
    "K-Nearest Neighbors : The KNN algorithm assumes that similar things exist in close proximity (neighbours)\n",
    "Support Vector Machines\n",
    "Decision Tree Classifiers/Random Forests\n",
    "Naive Bayes\n",
    "Linear Discriminant Analysis\n",
    "Logistic Regression"
   ]
  },
  {
   "cell_type": "code",
   "execution_count": null,
   "id": "29b53f45",
   "metadata": {},
   "outputs": [],
   "source": [
    "# CREATE A FAKE DATASET \n",
    "#Banking "
   ]
  },
  {
   "cell_type": "markdown",
   "id": "2ad53170",
   "metadata": {},
   "source": [
    "## PREPROCESSING OUR DATA"
   ]
  },
  {
   "cell_type": "code",
   "execution_count": 7,
   "id": "d49ed6dd",
   "metadata": {},
   "outputs": [],
   "source": [
    "import pandas as pd\n",
    "import numpy as np"
   ]
  },
  {
   "cell_type": "code",
   "execution_count": 8,
   "id": "27260c9a",
   "metadata": {},
   "outputs": [],
   "source": [
    "df = pd.read_csv(\"data.csv\")"
   ]
  },
  {
   "cell_type": "code",
   "execution_count": 9,
   "id": "12661d79",
   "metadata": {},
   "outputs": [
    {
     "data": {
      "text/html": [
       "<div>\n",
       "<style scoped>\n",
       "    .dataframe tbody tr th:only-of-type {\n",
       "        vertical-align: middle;\n",
       "    }\n",
       "\n",
       "    .dataframe tbody tr th {\n",
       "        vertical-align: top;\n",
       "    }\n",
       "\n",
       "    .dataframe thead th {\n",
       "        text-align: right;\n",
       "    }\n",
       "</style>\n",
       "<table border=\"1\" class=\"dataframe\">\n",
       "  <thead>\n",
       "    <tr style=\"text-align: right;\">\n",
       "      <th></th>\n",
       "      <th>Loan_ID</th>\n",
       "      <th>Gender</th>\n",
       "      <th>Married</th>\n",
       "      <th>Dependents</th>\n",
       "      <th>Education</th>\n",
       "      <th>Self_Employed</th>\n",
       "      <th>ApplicantIncome</th>\n",
       "      <th>CoapplicantIncome</th>\n",
       "      <th>LoanAmount</th>\n",
       "      <th>Loan_Amount_Term</th>\n",
       "      <th>Credit_History</th>\n",
       "      <th>Property_Area</th>\n",
       "      <th>Loan_Status</th>\n",
       "    </tr>\n",
       "  </thead>\n",
       "  <tbody>\n",
       "    <tr>\n",
       "      <th>0</th>\n",
       "      <td>LP001002</td>\n",
       "      <td>Male</td>\n",
       "      <td>No</td>\n",
       "      <td>0</td>\n",
       "      <td>Graduate</td>\n",
       "      <td>No</td>\n",
       "      <td>5849</td>\n",
       "      <td>0.0</td>\n",
       "      <td>NaN</td>\n",
       "      <td>360.0</td>\n",
       "      <td>1.0</td>\n",
       "      <td>Urban</td>\n",
       "      <td>Y</td>\n",
       "    </tr>\n",
       "    <tr>\n",
       "      <th>1</th>\n",
       "      <td>LP001003</td>\n",
       "      <td>Male</td>\n",
       "      <td>Yes</td>\n",
       "      <td>1</td>\n",
       "      <td>Graduate</td>\n",
       "      <td>No</td>\n",
       "      <td>4583</td>\n",
       "      <td>1508.0</td>\n",
       "      <td>128.0</td>\n",
       "      <td>360.0</td>\n",
       "      <td>1.0</td>\n",
       "      <td>Rural</td>\n",
       "      <td>N</td>\n",
       "    </tr>\n",
       "    <tr>\n",
       "      <th>2</th>\n",
       "      <td>LP001005</td>\n",
       "      <td>Male</td>\n",
       "      <td>Yes</td>\n",
       "      <td>0</td>\n",
       "      <td>Graduate</td>\n",
       "      <td>Yes</td>\n",
       "      <td>3000</td>\n",
       "      <td>0.0</td>\n",
       "      <td>66.0</td>\n",
       "      <td>360.0</td>\n",
       "      <td>1.0</td>\n",
       "      <td>Urban</td>\n",
       "      <td>Y</td>\n",
       "    </tr>\n",
       "    <tr>\n",
       "      <th>3</th>\n",
       "      <td>LP001006</td>\n",
       "      <td>Male</td>\n",
       "      <td>Yes</td>\n",
       "      <td>0</td>\n",
       "      <td>Not Graduate</td>\n",
       "      <td>No</td>\n",
       "      <td>2583</td>\n",
       "      <td>2358.0</td>\n",
       "      <td>120.0</td>\n",
       "      <td>360.0</td>\n",
       "      <td>1.0</td>\n",
       "      <td>Urban</td>\n",
       "      <td>Y</td>\n",
       "    </tr>\n",
       "    <tr>\n",
       "      <th>4</th>\n",
       "      <td>LP001008</td>\n",
       "      <td>Male</td>\n",
       "      <td>No</td>\n",
       "      <td>0</td>\n",
       "      <td>Graduate</td>\n",
       "      <td>No</td>\n",
       "      <td>6000</td>\n",
       "      <td>0.0</td>\n",
       "      <td>141.0</td>\n",
       "      <td>360.0</td>\n",
       "      <td>1.0</td>\n",
       "      <td>Urban</td>\n",
       "      <td>Y</td>\n",
       "    </tr>\n",
       "    <tr>\n",
       "      <th>...</th>\n",
       "      <td>...</td>\n",
       "      <td>...</td>\n",
       "      <td>...</td>\n",
       "      <td>...</td>\n",
       "      <td>...</td>\n",
       "      <td>...</td>\n",
       "      <td>...</td>\n",
       "      <td>...</td>\n",
       "      <td>...</td>\n",
       "      <td>...</td>\n",
       "      <td>...</td>\n",
       "      <td>...</td>\n",
       "      <td>...</td>\n",
       "    </tr>\n",
       "    <tr>\n",
       "      <th>609</th>\n",
       "      <td>LP002978</td>\n",
       "      <td>Female</td>\n",
       "      <td>No</td>\n",
       "      <td>0</td>\n",
       "      <td>Graduate</td>\n",
       "      <td>No</td>\n",
       "      <td>2900</td>\n",
       "      <td>0.0</td>\n",
       "      <td>71.0</td>\n",
       "      <td>360.0</td>\n",
       "      <td>1.0</td>\n",
       "      <td>Rural</td>\n",
       "      <td>Y</td>\n",
       "    </tr>\n",
       "    <tr>\n",
       "      <th>610</th>\n",
       "      <td>LP002979</td>\n",
       "      <td>Male</td>\n",
       "      <td>Yes</td>\n",
       "      <td>3+</td>\n",
       "      <td>Graduate</td>\n",
       "      <td>No</td>\n",
       "      <td>4106</td>\n",
       "      <td>0.0</td>\n",
       "      <td>40.0</td>\n",
       "      <td>180.0</td>\n",
       "      <td>1.0</td>\n",
       "      <td>Rural</td>\n",
       "      <td>Y</td>\n",
       "    </tr>\n",
       "    <tr>\n",
       "      <th>611</th>\n",
       "      <td>LP002983</td>\n",
       "      <td>Male</td>\n",
       "      <td>Yes</td>\n",
       "      <td>1</td>\n",
       "      <td>Graduate</td>\n",
       "      <td>No</td>\n",
       "      <td>8072</td>\n",
       "      <td>240.0</td>\n",
       "      <td>253.0</td>\n",
       "      <td>360.0</td>\n",
       "      <td>1.0</td>\n",
       "      <td>Urban</td>\n",
       "      <td>Y</td>\n",
       "    </tr>\n",
       "    <tr>\n",
       "      <th>612</th>\n",
       "      <td>LP002984</td>\n",
       "      <td>Male</td>\n",
       "      <td>Yes</td>\n",
       "      <td>2</td>\n",
       "      <td>Graduate</td>\n",
       "      <td>No</td>\n",
       "      <td>7583</td>\n",
       "      <td>0.0</td>\n",
       "      <td>187.0</td>\n",
       "      <td>360.0</td>\n",
       "      <td>1.0</td>\n",
       "      <td>Urban</td>\n",
       "      <td>Y</td>\n",
       "    </tr>\n",
       "    <tr>\n",
       "      <th>613</th>\n",
       "      <td>LP002990</td>\n",
       "      <td>Female</td>\n",
       "      <td>No</td>\n",
       "      <td>0</td>\n",
       "      <td>Graduate</td>\n",
       "      <td>Yes</td>\n",
       "      <td>4583</td>\n",
       "      <td>0.0</td>\n",
       "      <td>133.0</td>\n",
       "      <td>360.0</td>\n",
       "      <td>0.0</td>\n",
       "      <td>Semiurban</td>\n",
       "      <td>N</td>\n",
       "    </tr>\n",
       "  </tbody>\n",
       "</table>\n",
       "<p>614 rows × 13 columns</p>\n",
       "</div>"
      ],
      "text/plain": [
       "      Loan_ID  Gender Married Dependents     Education Self_Employed  \\\n",
       "0    LP001002    Male      No          0      Graduate            No   \n",
       "1    LP001003    Male     Yes          1      Graduate            No   \n",
       "2    LP001005    Male     Yes          0      Graduate           Yes   \n",
       "3    LP001006    Male     Yes          0  Not Graduate            No   \n",
       "4    LP001008    Male      No          0      Graduate            No   \n",
       "..        ...     ...     ...        ...           ...           ...   \n",
       "609  LP002978  Female      No          0      Graduate            No   \n",
       "610  LP002979    Male     Yes         3+      Graduate            No   \n",
       "611  LP002983    Male     Yes          1      Graduate            No   \n",
       "612  LP002984    Male     Yes          2      Graduate            No   \n",
       "613  LP002990  Female      No          0      Graduate           Yes   \n",
       "\n",
       "     ApplicantIncome  CoapplicantIncome  LoanAmount  Loan_Amount_Term  \\\n",
       "0               5849                0.0         NaN             360.0   \n",
       "1               4583             1508.0       128.0             360.0   \n",
       "2               3000                0.0        66.0             360.0   \n",
       "3               2583             2358.0       120.0             360.0   \n",
       "4               6000                0.0       141.0             360.0   \n",
       "..               ...                ...         ...               ...   \n",
       "609             2900                0.0        71.0             360.0   \n",
       "610             4106                0.0        40.0             180.0   \n",
       "611             8072              240.0       253.0             360.0   \n",
       "612             7583                0.0       187.0             360.0   \n",
       "613             4583                0.0       133.0             360.0   \n",
       "\n",
       "     Credit_History Property_Area Loan_Status  \n",
       "0               1.0         Urban           Y  \n",
       "1               1.0         Rural           N  \n",
       "2               1.0         Urban           Y  \n",
       "3               1.0         Urban           Y  \n",
       "4               1.0         Urban           Y  \n",
       "..              ...           ...         ...  \n",
       "609             1.0         Rural           Y  \n",
       "610             1.0         Rural           Y  \n",
       "611             1.0         Urban           Y  \n",
       "612             1.0         Urban           Y  \n",
       "613             0.0     Semiurban           N  \n",
       "\n",
       "[614 rows x 13 columns]"
      ]
     },
     "execution_count": 9,
     "metadata": {},
     "output_type": "execute_result"
    }
   ],
   "source": [
    "df"
   ]
  },
  {
   "cell_type": "markdown",
   "id": "5aee0854",
   "metadata": {},
   "source": [
    "## EXPLORATORY DATA ANALYSIS"
   ]
  },
  {
   "cell_type": "code",
   "execution_count": 10,
   "id": "21d4c2c9",
   "metadata": {},
   "outputs": [
    {
     "data": {
      "text/plain": [
       "(614, 13)"
      ]
     },
     "execution_count": 10,
     "metadata": {},
     "output_type": "execute_result"
    }
   ],
   "source": [
    "df.shape"
   ]
  },
  {
   "cell_type": "code",
   "execution_count": 11,
   "id": "2bd35f2d",
   "metadata": {},
   "outputs": [
    {
     "data": {
      "text/plain": [
       "Loan_ID               0\n",
       "Gender               13\n",
       "Married               3\n",
       "Dependents           15\n",
       "Education             0\n",
       "Self_Employed        32\n",
       "ApplicantIncome       0\n",
       "CoapplicantIncome     0\n",
       "LoanAmount           22\n",
       "Loan_Amount_Term     14\n",
       "Credit_History       50\n",
       "Property_Area         0\n",
       "Loan_Status           0\n",
       "dtype: int64"
      ]
     },
     "execution_count": 11,
     "metadata": {},
     "output_type": "execute_result"
    }
   ],
   "source": [
    "df.isnull().sum()"
   ]
  },
  {
   "cell_type": "code",
   "execution_count": 12,
   "id": "2e1035d6",
   "metadata": {},
   "outputs": [
    {
     "name": "stdout",
     "output_type": "stream",
     "text": [
      "<class 'pandas.core.frame.DataFrame'>\n",
      "RangeIndex: 614 entries, 0 to 613\n",
      "Data columns (total 13 columns):\n",
      " #   Column             Non-Null Count  Dtype  \n",
      "---  ------             --------------  -----  \n",
      " 0   Loan_ID            614 non-null    object \n",
      " 1   Gender             601 non-null    object \n",
      " 2   Married            611 non-null    object \n",
      " 3   Dependents         599 non-null    object \n",
      " 4   Education          614 non-null    object \n",
      " 5   Self_Employed      582 non-null    object \n",
      " 6   ApplicantIncome    614 non-null    int64  \n",
      " 7   CoapplicantIncome  614 non-null    float64\n",
      " 8   LoanAmount         592 non-null    float64\n",
      " 9   Loan_Amount_Term   600 non-null    float64\n",
      " 10  Credit_History     564 non-null    float64\n",
      " 11  Property_Area      614 non-null    object \n",
      " 12  Loan_Status        614 non-null    object \n",
      "dtypes: float64(4), int64(1), object(8)\n",
      "memory usage: 62.5+ KB\n"
     ]
    }
   ],
   "source": [
    "df.info()"
   ]
  },
  {
   "cell_type": "code",
   "execution_count": 14,
   "id": "19b6cc61",
   "metadata": {},
   "outputs": [
    {
     "data": {
      "text/html": [
       "<div>\n",
       "<style scoped>\n",
       "    .dataframe tbody tr th:only-of-type {\n",
       "        vertical-align: middle;\n",
       "    }\n",
       "\n",
       "    .dataframe tbody tr th {\n",
       "        vertical-align: top;\n",
       "    }\n",
       "\n",
       "    .dataframe thead th {\n",
       "        text-align: right;\n",
       "    }\n",
       "</style>\n",
       "<table border=\"1\" class=\"dataframe\">\n",
       "  <thead>\n",
       "    <tr style=\"text-align: right;\">\n",
       "      <th></th>\n",
       "      <th>ApplicantIncome</th>\n",
       "      <th>CoapplicantIncome</th>\n",
       "      <th>LoanAmount</th>\n",
       "      <th>Loan_Amount_Term</th>\n",
       "      <th>Credit_History</th>\n",
       "    </tr>\n",
       "  </thead>\n",
       "  <tbody>\n",
       "    <tr>\n",
       "      <th>count</th>\n",
       "      <td>614.000000</td>\n",
       "      <td>614.000000</td>\n",
       "      <td>592.000000</td>\n",
       "      <td>600.00000</td>\n",
       "      <td>564.000000</td>\n",
       "    </tr>\n",
       "    <tr>\n",
       "      <th>mean</th>\n",
       "      <td>5403.459283</td>\n",
       "      <td>1621.245798</td>\n",
       "      <td>146.412162</td>\n",
       "      <td>342.00000</td>\n",
       "      <td>0.842199</td>\n",
       "    </tr>\n",
       "    <tr>\n",
       "      <th>std</th>\n",
       "      <td>6109.041673</td>\n",
       "      <td>2926.248369</td>\n",
       "      <td>85.587325</td>\n",
       "      <td>65.12041</td>\n",
       "      <td>0.364878</td>\n",
       "    </tr>\n",
       "    <tr>\n",
       "      <th>min</th>\n",
       "      <td>150.000000</td>\n",
       "      <td>0.000000</td>\n",
       "      <td>9.000000</td>\n",
       "      <td>12.00000</td>\n",
       "      <td>0.000000</td>\n",
       "    </tr>\n",
       "    <tr>\n",
       "      <th>25%</th>\n",
       "      <td>2877.500000</td>\n",
       "      <td>0.000000</td>\n",
       "      <td>100.000000</td>\n",
       "      <td>360.00000</td>\n",
       "      <td>1.000000</td>\n",
       "    </tr>\n",
       "    <tr>\n",
       "      <th>50%</th>\n",
       "      <td>3812.500000</td>\n",
       "      <td>1188.500000</td>\n",
       "      <td>128.000000</td>\n",
       "      <td>360.00000</td>\n",
       "      <td>1.000000</td>\n",
       "    </tr>\n",
       "    <tr>\n",
       "      <th>75%</th>\n",
       "      <td>5795.000000</td>\n",
       "      <td>2297.250000</td>\n",
       "      <td>168.000000</td>\n",
       "      <td>360.00000</td>\n",
       "      <td>1.000000</td>\n",
       "    </tr>\n",
       "    <tr>\n",
       "      <th>max</th>\n",
       "      <td>81000.000000</td>\n",
       "      <td>41667.000000</td>\n",
       "      <td>700.000000</td>\n",
       "      <td>480.00000</td>\n",
       "      <td>1.000000</td>\n",
       "    </tr>\n",
       "  </tbody>\n",
       "</table>\n",
       "</div>"
      ],
      "text/plain": [
       "       ApplicantIncome  CoapplicantIncome  LoanAmount  Loan_Amount_Term  \\\n",
       "count       614.000000         614.000000  592.000000         600.00000   \n",
       "mean       5403.459283        1621.245798  146.412162         342.00000   \n",
       "std        6109.041673        2926.248369   85.587325          65.12041   \n",
       "min         150.000000           0.000000    9.000000          12.00000   \n",
       "25%        2877.500000           0.000000  100.000000         360.00000   \n",
       "50%        3812.500000        1188.500000  128.000000         360.00000   \n",
       "75%        5795.000000        2297.250000  168.000000         360.00000   \n",
       "max       81000.000000       41667.000000  700.000000         480.00000   \n",
       "\n",
       "       Credit_History  \n",
       "count      564.000000  \n",
       "mean         0.842199  \n",
       "std          0.364878  \n",
       "min          0.000000  \n",
       "25%          1.000000  \n",
       "50%          1.000000  \n",
       "75%          1.000000  \n",
       "max          1.000000  "
      ]
     },
     "execution_count": 14,
     "metadata": {},
     "output_type": "execute_result"
    }
   ],
   "source": [
    "df.describe()"
   ]
  },
  {
   "cell_type": "code",
   "execution_count": 20,
   "id": "f4e4aca7",
   "metadata": {},
   "outputs": [
    {
     "data": {
      "text/plain": [
       "34.538776394910684"
      ]
     },
     "execution_count": 20,
     "metadata": {},
     "output_type": "execute_result"
    }
   ],
   "source": [
    "np.log(1000000000000000)\n"
   ]
  },
  {
   "cell_type": "code",
   "execution_count": 21,
   "id": "ecaeadda",
   "metadata": {},
   "outputs": [
    {
     "data": {
      "text/plain": [
       "9.903487552536127"
      ]
     },
     "execution_count": 21,
     "metadata": {},
     "output_type": "execute_result"
    }
   ],
   "source": [
    "np.log(20000)"
   ]
  },
  {
   "cell_type": "code",
   "execution_count": null,
   "id": "5c1f331f",
   "metadata": {},
   "outputs": [],
   "source": [
    "1. Categorical variable ( transform to numbers [0,1,2] , [0,1,2], [0,1])\n",
    "2. Numerical variables ( clean it, removes outliers, normalization (logarithm))"
   ]
  },
  {
   "cell_type": "markdown",
   "id": "f517e729",
   "metadata": {},
   "source": [
    "## CLEAN VALUES"
   ]
  },
  {
   "cell_type": "code",
   "execution_count": 15,
   "id": "fa90a513",
   "metadata": {},
   "outputs": [
    {
     "name": "stdout",
     "output_type": "stream",
     "text": [
      "['Urban' 'Rural' 'Semiurban']\n",
      "['Male' 'Female' nan]\n",
      "['No' 'Yes' nan]\n",
      "['Graduate' 'Not Graduate']\n",
      "['No' 'Yes' nan]\n",
      "['Y' 'N']\n",
      "['0' '1' '2' '3+' nan]\n"
     ]
    }
   ],
   "source": [
    "print(df['Property_Area'].unique())\n",
    "print(df['Gender'].unique())\n",
    "print(df['Married'].unique())\n",
    "print(df['Education'].unique())\n",
    "print(df['Self_Employed'].unique())\n",
    "print(df['Loan_Status'].unique())\n",
    "print(df['Dependents'].unique())"
   ]
  },
  {
   "cell_type": "code",
   "execution_count": 22,
   "id": "efc846f1",
   "metadata": {},
   "outputs": [
    {
     "data": {
      "text/plain": [
       "Semiurban    233\n",
       "Urban        202\n",
       "Rural        179\n",
       "Name: Property_Area, dtype: int64"
      ]
     },
     "execution_count": 22,
     "metadata": {},
     "output_type": "execute_result"
    }
   ],
   "source": [
    "df['Property_Area'].value_counts()"
   ]
  },
  {
   "cell_type": "code",
   "execution_count": 23,
   "id": "928e2953",
   "metadata": {},
   "outputs": [
    {
     "data": {
      "text/plain": [
       "Y    422\n",
       "N    192\n",
       "Name: Loan_Status, dtype: int64"
      ]
     },
     "execution_count": 23,
     "metadata": {},
     "output_type": "execute_result"
    }
   ],
   "source": [
    "df['Loan_Status'].value_counts()"
   ]
  },
  {
   "cell_type": "code",
   "execution_count": 26,
   "id": "394e6cbb",
   "metadata": {},
   "outputs": [
    {
     "data": {
      "text/html": [
       "<div>\n",
       "<style scoped>\n",
       "    .dataframe tbody tr th:only-of-type {\n",
       "        vertical-align: middle;\n",
       "    }\n",
       "\n",
       "    .dataframe tbody tr th {\n",
       "        vertical-align: top;\n",
       "    }\n",
       "\n",
       "    .dataframe thead th {\n",
       "        text-align: right;\n",
       "    }\n",
       "</style>\n",
       "<table border=\"1\" class=\"dataframe\">\n",
       "  <thead>\n",
       "    <tr style=\"text-align: right;\">\n",
       "      <th></th>\n",
       "      <th>Loan_ID</th>\n",
       "      <th>Gender</th>\n",
       "      <th>Married</th>\n",
       "      <th>Dependents</th>\n",
       "      <th>Education</th>\n",
       "      <th>Self_Employed</th>\n",
       "      <th>Property_Area</th>\n",
       "      <th>Loan_Status</th>\n",
       "    </tr>\n",
       "  </thead>\n",
       "  <tbody>\n",
       "    <tr>\n",
       "      <th>0</th>\n",
       "      <td>LP001002</td>\n",
       "      <td>Male</td>\n",
       "      <td>No</td>\n",
       "      <td>0</td>\n",
       "      <td>Graduate</td>\n",
       "      <td>No</td>\n",
       "      <td>Urban</td>\n",
       "      <td>Y</td>\n",
       "    </tr>\n",
       "    <tr>\n",
       "      <th>1</th>\n",
       "      <td>LP001003</td>\n",
       "      <td>Male</td>\n",
       "      <td>Yes</td>\n",
       "      <td>1</td>\n",
       "      <td>Graduate</td>\n",
       "      <td>No</td>\n",
       "      <td>Rural</td>\n",
       "      <td>N</td>\n",
       "    </tr>\n",
       "    <tr>\n",
       "      <th>2</th>\n",
       "      <td>LP001005</td>\n",
       "      <td>Male</td>\n",
       "      <td>Yes</td>\n",
       "      <td>0</td>\n",
       "      <td>Graduate</td>\n",
       "      <td>Yes</td>\n",
       "      <td>Urban</td>\n",
       "      <td>Y</td>\n",
       "    </tr>\n",
       "    <tr>\n",
       "      <th>3</th>\n",
       "      <td>LP001006</td>\n",
       "      <td>Male</td>\n",
       "      <td>Yes</td>\n",
       "      <td>0</td>\n",
       "      <td>Not Graduate</td>\n",
       "      <td>No</td>\n",
       "      <td>Urban</td>\n",
       "      <td>Y</td>\n",
       "    </tr>\n",
       "    <tr>\n",
       "      <th>4</th>\n",
       "      <td>LP001008</td>\n",
       "      <td>Male</td>\n",
       "      <td>No</td>\n",
       "      <td>0</td>\n",
       "      <td>Graduate</td>\n",
       "      <td>No</td>\n",
       "      <td>Urban</td>\n",
       "      <td>Y</td>\n",
       "    </tr>\n",
       "  </tbody>\n",
       "</table>\n",
       "</div>"
      ],
      "text/plain": [
       "    Loan_ID Gender Married Dependents     Education Self_Employed  \\\n",
       "0  LP001002   Male      No          0      Graduate            No   \n",
       "1  LP001003   Male     Yes          1      Graduate            No   \n",
       "2  LP001005   Male     Yes          0      Graduate           Yes   \n",
       "3  LP001006   Male     Yes          0  Not Graduate            No   \n",
       "4  LP001008   Male      No          0      Graduate            No   \n",
       "\n",
       "  Property_Area Loan_Status  \n",
       "0         Urban           Y  \n",
       "1         Rural           N  \n",
       "2         Urban           Y  \n",
       "3         Urban           Y  \n",
       "4         Urban           Y  "
      ]
     },
     "execution_count": 26,
     "metadata": {},
     "output_type": "execute_result"
    }
   ],
   "source": [
    "df.select_dtypes(include=['object']).head()"
   ]
  },
  {
   "cell_type": "code",
   "execution_count": 12,
   "id": "257d0e77",
   "metadata": {},
   "outputs": [
    {
     "data": {
      "text/plain": [
       "Index(['Loan_ID', 'Gender', 'Married', 'Dependents', 'Education',\n",
       "       'Self_Employed', 'ApplicantIncome', 'CoapplicantIncome', 'LoanAmount',\n",
       "       'Loan_Amount_Term', 'Credit_History', 'Property_Area', 'Loan_Status'],\n",
       "      dtype='object')"
      ]
     },
     "execution_count": 12,
     "metadata": {},
     "output_type": "execute_result"
    }
   ],
   "source": [
    "df.columns"
   ]
  },
  {
   "cell_type": "code",
   "execution_count": 24,
   "id": "8ea9ded7",
   "metadata": {},
   "outputs": [],
   "source": [
    "cleanup_nums = {\"Property_Area\":     {'Urban':0, 'Rural':1, 'Semiurban':2},\n",
    "                \"Gender\": {'Male':0, 'Female':1, np.nan :2},\n",
    "                \"Married\": {'No':0, 'Yes':1, np.nan :2},\n",
    "                \"Education\": {'Graduate':0, 'Not Graduate':1},\n",
    "                  \"Self_Employed\": {'No':0, 'Yes':1, np.nan :2},\n",
    "                \"Loan_Status\": {'Y':0, 'N':1},\n",
    "                \"Dependents\": {'0':0, '1' :1,'2':2, '3+':3, np.nan:4},\n",
    "                \n",
    "               }"
   ]
  },
  {
   "cell_type": "code",
   "execution_count": 25,
   "id": "c3e39e2f",
   "metadata": {},
   "outputs": [],
   "source": [
    "train = df.copy()"
   ]
  },
  {
   "cell_type": "code",
   "execution_count": 26,
   "id": "df50126a",
   "metadata": {},
   "outputs": [
    {
     "data": {
      "text/html": [
       "<div>\n",
       "<style scoped>\n",
       "    .dataframe tbody tr th:only-of-type {\n",
       "        vertical-align: middle;\n",
       "    }\n",
       "\n",
       "    .dataframe tbody tr th {\n",
       "        vertical-align: top;\n",
       "    }\n",
       "\n",
       "    .dataframe thead th {\n",
       "        text-align: right;\n",
       "    }\n",
       "</style>\n",
       "<table border=\"1\" class=\"dataframe\">\n",
       "  <thead>\n",
       "    <tr style=\"text-align: right;\">\n",
       "      <th></th>\n",
       "      <th>Loan_ID</th>\n",
       "      <th>Gender</th>\n",
       "      <th>Married</th>\n",
       "      <th>Dependents</th>\n",
       "      <th>Education</th>\n",
       "      <th>Self_Employed</th>\n",
       "      <th>ApplicantIncome</th>\n",
       "      <th>CoapplicantIncome</th>\n",
       "      <th>LoanAmount</th>\n",
       "      <th>Loan_Amount_Term</th>\n",
       "      <th>Credit_History</th>\n",
       "      <th>Property_Area</th>\n",
       "      <th>Loan_Status</th>\n",
       "    </tr>\n",
       "  </thead>\n",
       "  <tbody>\n",
       "    <tr>\n",
       "      <th>0</th>\n",
       "      <td>LP001002</td>\n",
       "      <td>0</td>\n",
       "      <td>0</td>\n",
       "      <td>0</td>\n",
       "      <td>0</td>\n",
       "      <td>0</td>\n",
       "      <td>5849</td>\n",
       "      <td>0.0</td>\n",
       "      <td>NaN</td>\n",
       "      <td>360.0</td>\n",
       "      <td>1.0</td>\n",
       "      <td>0</td>\n",
       "      <td>0</td>\n",
       "    </tr>\n",
       "    <tr>\n",
       "      <th>1</th>\n",
       "      <td>LP001003</td>\n",
       "      <td>0</td>\n",
       "      <td>1</td>\n",
       "      <td>1</td>\n",
       "      <td>0</td>\n",
       "      <td>0</td>\n",
       "      <td>4583</td>\n",
       "      <td>1508.0</td>\n",
       "      <td>128.0</td>\n",
       "      <td>360.0</td>\n",
       "      <td>1.0</td>\n",
       "      <td>1</td>\n",
       "      <td>1</td>\n",
       "    </tr>\n",
       "    <tr>\n",
       "      <th>2</th>\n",
       "      <td>LP001005</td>\n",
       "      <td>0</td>\n",
       "      <td>1</td>\n",
       "      <td>0</td>\n",
       "      <td>0</td>\n",
       "      <td>1</td>\n",
       "      <td>3000</td>\n",
       "      <td>0.0</td>\n",
       "      <td>66.0</td>\n",
       "      <td>360.0</td>\n",
       "      <td>1.0</td>\n",
       "      <td>0</td>\n",
       "      <td>0</td>\n",
       "    </tr>\n",
       "    <tr>\n",
       "      <th>3</th>\n",
       "      <td>LP001006</td>\n",
       "      <td>0</td>\n",
       "      <td>1</td>\n",
       "      <td>0</td>\n",
       "      <td>1</td>\n",
       "      <td>0</td>\n",
       "      <td>2583</td>\n",
       "      <td>2358.0</td>\n",
       "      <td>120.0</td>\n",
       "      <td>360.0</td>\n",
       "      <td>1.0</td>\n",
       "      <td>0</td>\n",
       "      <td>0</td>\n",
       "    </tr>\n",
       "    <tr>\n",
       "      <th>4</th>\n",
       "      <td>LP001008</td>\n",
       "      <td>0</td>\n",
       "      <td>0</td>\n",
       "      <td>0</td>\n",
       "      <td>0</td>\n",
       "      <td>0</td>\n",
       "      <td>6000</td>\n",
       "      <td>0.0</td>\n",
       "      <td>141.0</td>\n",
       "      <td>360.0</td>\n",
       "      <td>1.0</td>\n",
       "      <td>0</td>\n",
       "      <td>0</td>\n",
       "    </tr>\n",
       "  </tbody>\n",
       "</table>\n",
       "</div>"
      ],
      "text/plain": [
       "    Loan_ID  Gender  Married  Dependents  Education  Self_Employed  \\\n",
       "0  LP001002       0        0           0          0              0   \n",
       "1  LP001003       0        1           1          0              0   \n",
       "2  LP001005       0        1           0          0              1   \n",
       "3  LP001006       0        1           0          1              0   \n",
       "4  LP001008       0        0           0          0              0   \n",
       "\n",
       "   ApplicantIncome  CoapplicantIncome  LoanAmount  Loan_Amount_Term  \\\n",
       "0             5849                0.0         NaN             360.0   \n",
       "1             4583             1508.0       128.0             360.0   \n",
       "2             3000                0.0        66.0             360.0   \n",
       "3             2583             2358.0       120.0             360.0   \n",
       "4             6000                0.0       141.0             360.0   \n",
       "\n",
       "   Credit_History  Property_Area  Loan_Status  \n",
       "0             1.0              0            0  \n",
       "1             1.0              1            1  \n",
       "2             1.0              0            0  \n",
       "3             1.0              0            0  \n",
       "4             1.0              0            0  "
      ]
     },
     "execution_count": 26,
     "metadata": {},
     "output_type": "execute_result"
    }
   ],
   "source": [
    "train= train.replace(cleanup_nums)\n",
    "train.head()"
   ]
  },
  {
   "cell_type": "code",
   "execution_count": 60,
   "id": "079c74c3",
   "metadata": {},
   "outputs": [
    {
     "data": {
      "text/html": [
       "<div>\n",
       "<style scoped>\n",
       "    .dataframe tbody tr th:only-of-type {\n",
       "        vertical-align: middle;\n",
       "    }\n",
       "\n",
       "    .dataframe tbody tr th {\n",
       "        vertical-align: top;\n",
       "    }\n",
       "\n",
       "    .dataframe thead th {\n",
       "        text-align: right;\n",
       "    }\n",
       "</style>\n",
       "<table border=\"1\" class=\"dataframe\">\n",
       "  <thead>\n",
       "    <tr style=\"text-align: right;\">\n",
       "      <th></th>\n",
       "      <th>ApplicantIncome</th>\n",
       "      <th>CoapplicantIncome</th>\n",
       "      <th>LoanAmount</th>\n",
       "      <th>Loan_Amount_Term</th>\n",
       "      <th>Credit_History</th>\n",
       "    </tr>\n",
       "  </thead>\n",
       "  <tbody>\n",
       "    <tr>\n",
       "      <th>0</th>\n",
       "      <td>5849</td>\n",
       "      <td>0.0</td>\n",
       "      <td>NaN</td>\n",
       "      <td>360.0</td>\n",
       "      <td>1.0</td>\n",
       "    </tr>\n",
       "    <tr>\n",
       "      <th>1</th>\n",
       "      <td>4583</td>\n",
       "      <td>1508.0</td>\n",
       "      <td>128.0</td>\n",
       "      <td>360.0</td>\n",
       "      <td>1.0</td>\n",
       "    </tr>\n",
       "    <tr>\n",
       "      <th>2</th>\n",
       "      <td>3000</td>\n",
       "      <td>0.0</td>\n",
       "      <td>66.0</td>\n",
       "      <td>360.0</td>\n",
       "      <td>1.0</td>\n",
       "    </tr>\n",
       "    <tr>\n",
       "      <th>3</th>\n",
       "      <td>2583</td>\n",
       "      <td>2358.0</td>\n",
       "      <td>120.0</td>\n",
       "      <td>360.0</td>\n",
       "      <td>1.0</td>\n",
       "    </tr>\n",
       "    <tr>\n",
       "      <th>4</th>\n",
       "      <td>6000</td>\n",
       "      <td>0.0</td>\n",
       "      <td>141.0</td>\n",
       "      <td>360.0</td>\n",
       "      <td>1.0</td>\n",
       "    </tr>\n",
       "  </tbody>\n",
       "</table>\n",
       "</div>"
      ],
      "text/plain": [
       "   ApplicantIncome  CoapplicantIncome  LoanAmount  Loan_Amount_Term  \\\n",
       "0             5849                0.0         NaN             360.0   \n",
       "1             4583             1508.0       128.0             360.0   \n",
       "2             3000                0.0        66.0             360.0   \n",
       "3             2583             2358.0       120.0             360.0   \n",
       "4             6000                0.0       141.0             360.0   \n",
       "\n",
       "   Credit_History  \n",
       "0             1.0  \n",
       "1             1.0  \n",
       "2             1.0  \n",
       "3             1.0  \n",
       "4             1.0  "
      ]
     },
     "execution_count": 60,
     "metadata": {},
     "output_type": "execute_result"
    }
   ],
   "source": [
    "df.select_dtypes(include=[np.number]).head()"
   ]
  },
  {
   "cell_type": "markdown",
   "id": "39c2c471",
   "metadata": {},
   "source": [
    "## CLEAN NUMERICAL VALUES"
   ]
  },
  {
   "cell_type": "code",
   "execution_count": 28,
   "id": "99e7210f",
   "metadata": {},
   "outputs": [
    {
     "data": {
      "text/plain": [
       "Loan_ID               0\n",
       "Gender               13\n",
       "Married               3\n",
       "Dependents           15\n",
       "Education             0\n",
       "Self_Employed        32\n",
       "ApplicantIncome       0\n",
       "CoapplicantIncome     0\n",
       "LoanAmount           22\n",
       "Loan_Amount_Term     14\n",
       "Credit_History       50\n",
       "Property_Area         0\n",
       "Loan_Status           0\n",
       "dtype: int64"
      ]
     },
     "execution_count": 28,
     "metadata": {},
     "output_type": "execute_result"
    }
   ],
   "source": [
    "df.isnull().sum()"
   ]
  },
  {
   "cell_type": "code",
   "execution_count": 27,
   "id": "99cfbc90",
   "metadata": {},
   "outputs": [
    {
     "data": {
      "text/plain": [
       "Index(['ApplicantIncome', 'CoapplicantIncome', 'LoanAmount',\n",
       "       'Loan_Amount_Term', 'Credit_History'],\n",
       "      dtype='object')"
      ]
     },
     "execution_count": 27,
     "metadata": {},
     "output_type": "execute_result"
    }
   ],
   "source": [
    "df.select_dtypes(include=[np.number]).head().columns"
   ]
  },
  {
   "cell_type": "code",
   "execution_count": 29,
   "id": "228c8dcf",
   "metadata": {},
   "outputs": [],
   "source": [
    "cols = ['ApplicantIncome', 'CoapplicantIncome', 'LoanAmount',\n",
    "       'Loan_Amount_Term', 'Credit_History']\n",
    "for col in cols :\n",
    "    train[col] = train[col].fillna(train[col].mean())"
   ]
  },
  {
   "cell_type": "code",
   "execution_count": 30,
   "id": "775da27a",
   "metadata": {},
   "outputs": [
    {
     "data": {
      "text/plain": [
       "Loan_ID              0\n",
       "Gender               0\n",
       "Married              0\n",
       "Dependents           0\n",
       "Education            0\n",
       "Self_Employed        0\n",
       "ApplicantIncome      0\n",
       "CoapplicantIncome    0\n",
       "LoanAmount           0\n",
       "Loan_Amount_Term     0\n",
       "Credit_History       0\n",
       "Property_Area        0\n",
       "Loan_Status          0\n",
       "dtype: int64"
      ]
     },
     "execution_count": 30,
     "metadata": {},
     "output_type": "execute_result"
    }
   ],
   "source": [
    "train.isnull().sum()"
   ]
  },
  {
   "cell_type": "code",
   "execution_count": 32,
   "id": "016ccb64",
   "metadata": {},
   "outputs": [],
   "source": [
    "cols = ['ApplicantIncome', 'CoapplicantIncome', 'LoanAmount',\n",
    "       'Loan_Amount_Term', 'Credit_History']\n",
    "for col in cols :\n",
    "    train[col] = np.log1p(train[col])"
   ]
  },
  {
   "cell_type": "code",
   "execution_count": 33,
   "id": "6c3bd0d8",
   "metadata": {},
   "outputs": [
    {
     "data": {
      "text/html": [
       "<div>\n",
       "<style scoped>\n",
       "    .dataframe tbody tr th:only-of-type {\n",
       "        vertical-align: middle;\n",
       "    }\n",
       "\n",
       "    .dataframe tbody tr th {\n",
       "        vertical-align: top;\n",
       "    }\n",
       "\n",
       "    .dataframe thead th {\n",
       "        text-align: right;\n",
       "    }\n",
       "</style>\n",
       "<table border=\"1\" class=\"dataframe\">\n",
       "  <thead>\n",
       "    <tr style=\"text-align: right;\">\n",
       "      <th></th>\n",
       "      <th>Loan_ID</th>\n",
       "      <th>Gender</th>\n",
       "      <th>Married</th>\n",
       "      <th>Dependents</th>\n",
       "      <th>Education</th>\n",
       "      <th>Self_Employed</th>\n",
       "      <th>ApplicantIncome</th>\n",
       "      <th>CoapplicantIncome</th>\n",
       "      <th>LoanAmount</th>\n",
       "      <th>Loan_Amount_Term</th>\n",
       "      <th>Credit_History</th>\n",
       "      <th>Property_Area</th>\n",
       "      <th>Loan_Status</th>\n",
       "    </tr>\n",
       "  </thead>\n",
       "  <tbody>\n",
       "    <tr>\n",
       "      <th>0</th>\n",
       "      <td>LP001002</td>\n",
       "      <td>0</td>\n",
       "      <td>0</td>\n",
       "      <td>0</td>\n",
       "      <td>0</td>\n",
       "      <td>0</td>\n",
       "      <td>2.269462</td>\n",
       "      <td>0.000000</td>\n",
       "      <td>1.790631</td>\n",
       "      <td>1.929908</td>\n",
       "      <td>0.526589</td>\n",
       "      <td>0</td>\n",
       "      <td>0</td>\n",
       "    </tr>\n",
       "    <tr>\n",
       "      <th>1</th>\n",
       "      <td>LP001003</td>\n",
       "      <td>0</td>\n",
       "      <td>1</td>\n",
       "      <td>1</td>\n",
       "      <td>0</td>\n",
       "      <td>0</td>\n",
       "      <td>2.243931</td>\n",
       "      <td>2.118566</td>\n",
       "      <td>1.768118</td>\n",
       "      <td>1.929908</td>\n",
       "      <td>0.526589</td>\n",
       "      <td>1</td>\n",
       "      <td>1</td>\n",
       "    </tr>\n",
       "    <tr>\n",
       "      <th>2</th>\n",
       "      <td>LP001005</td>\n",
       "      <td>0</td>\n",
       "      <td>1</td>\n",
       "      <td>0</td>\n",
       "      <td>0</td>\n",
       "      <td>1</td>\n",
       "      <td>2.197969</td>\n",
       "      <td>0.000000</td>\n",
       "      <td>1.649561</td>\n",
       "      <td>1.929908</td>\n",
       "      <td>0.526589</td>\n",
       "      <td>0</td>\n",
       "      <td>0</td>\n",
       "    </tr>\n",
       "    <tr>\n",
       "      <th>3</th>\n",
       "      <td>LP001006</td>\n",
       "      <td>0</td>\n",
       "      <td>1</td>\n",
       "      <td>0</td>\n",
       "      <td>1</td>\n",
       "      <td>0</td>\n",
       "      <td>2.181219</td>\n",
       "      <td>2.170880</td>\n",
       "      <td>1.757132</td>\n",
       "      <td>1.929908</td>\n",
       "      <td>0.526589</td>\n",
       "      <td>0</td>\n",
       "      <td>0</td>\n",
       "    </tr>\n",
       "    <tr>\n",
       "      <th>4</th>\n",
       "      <td>LP001008</td>\n",
       "      <td>0</td>\n",
       "      <td>0</td>\n",
       "      <td>0</td>\n",
       "      <td>0</td>\n",
       "      <td>0</td>\n",
       "      <td>2.272093</td>\n",
       "      <td>0.000000</td>\n",
       "      <td>1.784370</td>\n",
       "      <td>1.929908</td>\n",
       "      <td>0.526589</td>\n",
       "      <td>0</td>\n",
       "      <td>0</td>\n",
       "    </tr>\n",
       "    <tr>\n",
       "      <th>...</th>\n",
       "      <td>...</td>\n",
       "      <td>...</td>\n",
       "      <td>...</td>\n",
       "      <td>...</td>\n",
       "      <td>...</td>\n",
       "      <td>...</td>\n",
       "      <td>...</td>\n",
       "      <td>...</td>\n",
       "      <td>...</td>\n",
       "      <td>...</td>\n",
       "      <td>...</td>\n",
       "      <td>...</td>\n",
       "      <td>...</td>\n",
       "    </tr>\n",
       "    <tr>\n",
       "      <th>609</th>\n",
       "      <td>LP002978</td>\n",
       "      <td>1</td>\n",
       "      <td>0</td>\n",
       "      <td>0</td>\n",
       "      <td>0</td>\n",
       "      <td>0</td>\n",
       "      <td>2.194199</td>\n",
       "      <td>0.000000</td>\n",
       "      <td>1.663294</td>\n",
       "      <td>1.929908</td>\n",
       "      <td>0.526589</td>\n",
       "      <td>1</td>\n",
       "      <td>0</td>\n",
       "    </tr>\n",
       "    <tr>\n",
       "      <th>610</th>\n",
       "      <td>LP002979</td>\n",
       "      <td>0</td>\n",
       "      <td>1</td>\n",
       "      <td>3</td>\n",
       "      <td>0</td>\n",
       "      <td>0</td>\n",
       "      <td>2.232211</td>\n",
       "      <td>0.000000</td>\n",
       "      <td>1.550446</td>\n",
       "      <td>1.824307</td>\n",
       "      <td>0.526589</td>\n",
       "      <td>1</td>\n",
       "      <td>0</td>\n",
       "    </tr>\n",
       "    <tr>\n",
       "      <th>611</th>\n",
       "      <td>LP002983</td>\n",
       "      <td>0</td>\n",
       "      <td>1</td>\n",
       "      <td>1</td>\n",
       "      <td>0</td>\n",
       "      <td>0</td>\n",
       "      <td>2.302213</td>\n",
       "      <td>1.869461</td>\n",
       "      <td>1.877529</td>\n",
       "      <td>1.929908</td>\n",
       "      <td>0.526589</td>\n",
       "      <td>0</td>\n",
       "      <td>0</td>\n",
       "    </tr>\n",
       "    <tr>\n",
       "      <th>612</th>\n",
       "      <td>LP002984</td>\n",
       "      <td>0</td>\n",
       "      <td>1</td>\n",
       "      <td>2</td>\n",
       "      <td>0</td>\n",
       "      <td>0</td>\n",
       "      <td>2.295943</td>\n",
       "      <td>0.000000</td>\n",
       "      <td>1.830410</td>\n",
       "      <td>1.929908</td>\n",
       "      <td>0.526589</td>\n",
       "      <td>0</td>\n",
       "      <td>0</td>\n",
       "    </tr>\n",
       "    <tr>\n",
       "      <th>613</th>\n",
       "      <td>LP002990</td>\n",
       "      <td>1</td>\n",
       "      <td>0</td>\n",
       "      <td>0</td>\n",
       "      <td>0</td>\n",
       "      <td>1</td>\n",
       "      <td>2.243931</td>\n",
       "      <td>0.000000</td>\n",
       "      <td>1.774586</td>\n",
       "      <td>1.929908</td>\n",
       "      <td>0.000000</td>\n",
       "      <td>2</td>\n",
       "      <td>1</td>\n",
       "    </tr>\n",
       "  </tbody>\n",
       "</table>\n",
       "<p>614 rows × 13 columns</p>\n",
       "</div>"
      ],
      "text/plain": [
       "      Loan_ID  Gender  Married  Dependents  Education  Self_Employed  \\\n",
       "0    LP001002       0        0           0          0              0   \n",
       "1    LP001003       0        1           1          0              0   \n",
       "2    LP001005       0        1           0          0              1   \n",
       "3    LP001006       0        1           0          1              0   \n",
       "4    LP001008       0        0           0          0              0   \n",
       "..        ...     ...      ...         ...        ...            ...   \n",
       "609  LP002978       1        0           0          0              0   \n",
       "610  LP002979       0        1           3          0              0   \n",
       "611  LP002983       0        1           1          0              0   \n",
       "612  LP002984       0        1           2          0              0   \n",
       "613  LP002990       1        0           0          0              1   \n",
       "\n",
       "     ApplicantIncome  CoapplicantIncome  LoanAmount  Loan_Amount_Term  \\\n",
       "0           2.269462           0.000000    1.790631          1.929908   \n",
       "1           2.243931           2.118566    1.768118          1.929908   \n",
       "2           2.197969           0.000000    1.649561          1.929908   \n",
       "3           2.181219           2.170880    1.757132          1.929908   \n",
       "4           2.272093           0.000000    1.784370          1.929908   \n",
       "..               ...                ...         ...               ...   \n",
       "609         2.194199           0.000000    1.663294          1.929908   \n",
       "610         2.232211           0.000000    1.550446          1.824307   \n",
       "611         2.302213           1.869461    1.877529          1.929908   \n",
       "612         2.295943           0.000000    1.830410          1.929908   \n",
       "613         2.243931           0.000000    1.774586          1.929908   \n",
       "\n",
       "     Credit_History  Property_Area  Loan_Status  \n",
       "0          0.526589              0            0  \n",
       "1          0.526589              1            1  \n",
       "2          0.526589              0            0  \n",
       "3          0.526589              0            0  \n",
       "4          0.526589              0            0  \n",
       "..              ...            ...          ...  \n",
       "609        0.526589              1            0  \n",
       "610        0.526589              1            0  \n",
       "611        0.526589              0            0  \n",
       "612        0.526589              0            0  \n",
       "613        0.000000              2            1  \n",
       "\n",
       "[614 rows x 13 columns]"
      ]
     },
     "execution_count": 33,
     "metadata": {},
     "output_type": "execute_result"
    }
   ],
   "source": [
    "train"
   ]
  },
  {
   "cell_type": "code",
   "execution_count": 64,
   "id": "0b2e4b1b",
   "metadata": {},
   "outputs": [],
   "source": [
    "# df"
   ]
  },
  {
   "cell_type": "code",
   "execution_count": 34,
   "id": "557eb86c",
   "metadata": {},
   "outputs": [
    {
     "name": "stdout",
     "output_type": "stream",
     "text": [
      "2.50977947209551\n",
      "2.454231673932842\n",
      "2.0218796785726947\n",
      "1.9707236282233618\n",
      "0.5265890341390445\n"
     ]
    }
   ],
   "source": [
    "cols = ['ApplicantIncome', 'CoapplicantIncome', 'LoanAmount',\n",
    "       'Loan_Amount_Term', 'Credit_History']\n",
    "for col in cols :\n",
    "    print(train[col].max())\n"
   ]
  },
  {
   "cell_type": "code",
   "execution_count": 35,
   "id": "44a23ea9",
   "metadata": {},
   "outputs": [
    {
     "data": {
      "text/html": [
       "<div>\n",
       "<style scoped>\n",
       "    .dataframe tbody tr th:only-of-type {\n",
       "        vertical-align: middle;\n",
       "    }\n",
       "\n",
       "    .dataframe tbody tr th {\n",
       "        vertical-align: top;\n",
       "    }\n",
       "\n",
       "    .dataframe thead th {\n",
       "        text-align: right;\n",
       "    }\n",
       "</style>\n",
       "<table border=\"1\" class=\"dataframe\">\n",
       "  <thead>\n",
       "    <tr style=\"text-align: right;\">\n",
       "      <th></th>\n",
       "      <th>ApplicantIncome</th>\n",
       "      <th>CoapplicantIncome</th>\n",
       "      <th>LoanAmount</th>\n",
       "      <th>Loan_Amount_Term</th>\n",
       "      <th>Credit_History</th>\n",
       "    </tr>\n",
       "  </thead>\n",
       "  <tbody>\n",
       "    <tr>\n",
       "      <th>count</th>\n",
       "      <td>614.000000</td>\n",
       "      <td>614.000000</td>\n",
       "      <td>614.000000</td>\n",
       "      <td>614.000000</td>\n",
       "      <td>614.000000</td>\n",
       "    </tr>\n",
       "    <tr>\n",
       "      <th>mean</th>\n",
       "      <td>2.232101</td>\n",
       "      <td>1.201140</td>\n",
       "      <td>1.766392</td>\n",
       "      <td>1.916476</td>\n",
       "      <td>0.446207</td>\n",
       "    </tr>\n",
       "    <tr>\n",
       "      <th>std</th>\n",
       "      <td>0.068922</td>\n",
       "      <td>1.077480</td>\n",
       "      <td>0.086008</td>\n",
       "      <td>0.052286</td>\n",
       "      <td>0.184364</td>\n",
       "    </tr>\n",
       "    <tr>\n",
       "      <th>min</th>\n",
       "      <td>1.794635</td>\n",
       "      <td>0.000000</td>\n",
       "      <td>1.194706</td>\n",
       "      <td>1.271150</td>\n",
       "      <td>0.000000</td>\n",
       "    </tr>\n",
       "    <tr>\n",
       "      <th>25%</th>\n",
       "      <td>2.193331</td>\n",
       "      <td>0.000000</td>\n",
       "      <td>1.725901</td>\n",
       "      <td>1.929908</td>\n",
       "      <td>0.526589</td>\n",
       "    </tr>\n",
       "    <tr>\n",
       "      <th>50%</th>\n",
       "      <td>2.224224</td>\n",
       "      <td>2.089529</td>\n",
       "      <td>1.769435</td>\n",
       "      <td>1.929908</td>\n",
       "      <td>0.526589</td>\n",
       "    </tr>\n",
       "    <tr>\n",
       "      <th>75%</th>\n",
       "      <td>2.268503</td>\n",
       "      <td>2.167898</td>\n",
       "      <td>1.810005</td>\n",
       "      <td>1.929908</td>\n",
       "      <td>0.526589</td>\n",
       "    </tr>\n",
       "    <tr>\n",
       "      <th>max</th>\n",
       "      <td>2.509779</td>\n",
       "      <td>2.454232</td>\n",
       "      <td>2.021880</td>\n",
       "      <td>1.970724</td>\n",
       "      <td>0.526589</td>\n",
       "    </tr>\n",
       "  </tbody>\n",
       "</table>\n",
       "</div>"
      ],
      "text/plain": [
       "       ApplicantIncome  CoapplicantIncome  LoanAmount  Loan_Amount_Term  \\\n",
       "count       614.000000         614.000000  614.000000        614.000000   \n",
       "mean          2.232101           1.201140    1.766392          1.916476   \n",
       "std           0.068922           1.077480    0.086008          0.052286   \n",
       "min           1.794635           0.000000    1.194706          1.271150   \n",
       "25%           2.193331           0.000000    1.725901          1.929908   \n",
       "50%           2.224224           2.089529    1.769435          1.929908   \n",
       "75%           2.268503           2.167898    1.810005          1.929908   \n",
       "max           2.509779           2.454232    2.021880          1.970724   \n",
       "\n",
       "       Credit_History  \n",
       "count      614.000000  \n",
       "mean         0.446207  \n",
       "std          0.184364  \n",
       "min          0.000000  \n",
       "25%          0.526589  \n",
       "50%          0.526589  \n",
       "75%          0.526589  \n",
       "max          0.526589  "
      ]
     },
     "execution_count": 35,
     "metadata": {},
     "output_type": "execute_result"
    }
   ],
   "source": [
    "train[['ApplicantIncome', 'CoapplicantIncome', 'LoanAmount',\n",
    "       'Loan_Amount_Term', 'Credit_History']].describe()"
   ]
  },
  {
   "cell_type": "code",
   "execution_count": null,
   "id": "6c658e37",
   "metadata": {},
   "outputs": [],
   "source": []
  },
  {
   "cell_type": "code",
   "execution_count": 67,
   "id": "4b595e0c",
   "metadata": {},
   "outputs": [],
   "source": [
    "# train.describe()"
   ]
  },
  {
   "cell_type": "code",
   "execution_count": 49,
   "id": "c6051489",
   "metadata": {},
   "outputs": [
    {
     "data": {
      "text/plain": [
       "Index(['Loan_ID', 'Gender', 'Married', 'Dependents', 'Education',\n",
       "       'Self_Employed', 'ApplicantIncome', 'CoapplicantIncome', 'LoanAmount',\n",
       "       'Loan_Amount_Term', 'Credit_History', 'Property_Area', 'Loan_Status'],\n",
       "      dtype='object')"
      ]
     },
     "execution_count": 49,
     "metadata": {},
     "output_type": "execute_result"
    }
   ],
   "source": [
    "train.columns"
   ]
  },
  {
   "cell_type": "code",
   "execution_count": 36,
   "id": "e2df7d69",
   "metadata": {},
   "outputs": [
    {
     "data": {
      "text/html": [
       "<div>\n",
       "<style scoped>\n",
       "    .dataframe tbody tr th:only-of-type {\n",
       "        vertical-align: middle;\n",
       "    }\n",
       "\n",
       "    .dataframe tbody tr th {\n",
       "        vertical-align: top;\n",
       "    }\n",
       "\n",
       "    .dataframe thead th {\n",
       "        text-align: right;\n",
       "    }\n",
       "</style>\n",
       "<table border=\"1\" class=\"dataframe\">\n",
       "  <thead>\n",
       "    <tr style=\"text-align: right;\">\n",
       "      <th></th>\n",
       "      <th>Loan_ID</th>\n",
       "      <th>Gender</th>\n",
       "      <th>Married</th>\n",
       "      <th>Dependents</th>\n",
       "      <th>Education</th>\n",
       "      <th>Self_Employed</th>\n",
       "      <th>ApplicantIncome</th>\n",
       "      <th>CoapplicantIncome</th>\n",
       "      <th>LoanAmount</th>\n",
       "      <th>Loan_Amount_Term</th>\n",
       "      <th>Credit_History</th>\n",
       "      <th>Property_Area</th>\n",
       "      <th>Loan_Status</th>\n",
       "    </tr>\n",
       "  </thead>\n",
       "  <tbody>\n",
       "    <tr>\n",
       "      <th>0</th>\n",
       "      <td>LP001002</td>\n",
       "      <td>0</td>\n",
       "      <td>0</td>\n",
       "      <td>0</td>\n",
       "      <td>0</td>\n",
       "      <td>0</td>\n",
       "      <td>2.269462</td>\n",
       "      <td>0.000000</td>\n",
       "      <td>1.790631</td>\n",
       "      <td>1.929908</td>\n",
       "      <td>0.526589</td>\n",
       "      <td>0</td>\n",
       "      <td>0</td>\n",
       "    </tr>\n",
       "    <tr>\n",
       "      <th>1</th>\n",
       "      <td>LP001003</td>\n",
       "      <td>0</td>\n",
       "      <td>1</td>\n",
       "      <td>1</td>\n",
       "      <td>0</td>\n",
       "      <td>0</td>\n",
       "      <td>2.243931</td>\n",
       "      <td>2.118566</td>\n",
       "      <td>1.768118</td>\n",
       "      <td>1.929908</td>\n",
       "      <td>0.526589</td>\n",
       "      <td>1</td>\n",
       "      <td>1</td>\n",
       "    </tr>\n",
       "    <tr>\n",
       "      <th>2</th>\n",
       "      <td>LP001005</td>\n",
       "      <td>0</td>\n",
       "      <td>1</td>\n",
       "      <td>0</td>\n",
       "      <td>0</td>\n",
       "      <td>1</td>\n",
       "      <td>2.197969</td>\n",
       "      <td>0.000000</td>\n",
       "      <td>1.649561</td>\n",
       "      <td>1.929908</td>\n",
       "      <td>0.526589</td>\n",
       "      <td>0</td>\n",
       "      <td>0</td>\n",
       "    </tr>\n",
       "    <tr>\n",
       "      <th>3</th>\n",
       "      <td>LP001006</td>\n",
       "      <td>0</td>\n",
       "      <td>1</td>\n",
       "      <td>0</td>\n",
       "      <td>1</td>\n",
       "      <td>0</td>\n",
       "      <td>2.181219</td>\n",
       "      <td>2.170880</td>\n",
       "      <td>1.757132</td>\n",
       "      <td>1.929908</td>\n",
       "      <td>0.526589</td>\n",
       "      <td>0</td>\n",
       "      <td>0</td>\n",
       "    </tr>\n",
       "    <tr>\n",
       "      <th>4</th>\n",
       "      <td>LP001008</td>\n",
       "      <td>0</td>\n",
       "      <td>0</td>\n",
       "      <td>0</td>\n",
       "      <td>0</td>\n",
       "      <td>0</td>\n",
       "      <td>2.272093</td>\n",
       "      <td>0.000000</td>\n",
       "      <td>1.784370</td>\n",
       "      <td>1.929908</td>\n",
       "      <td>0.526589</td>\n",
       "      <td>0</td>\n",
       "      <td>0</td>\n",
       "    </tr>\n",
       "  </tbody>\n",
       "</table>\n",
       "</div>"
      ],
      "text/plain": [
       "    Loan_ID  Gender  Married  Dependents  Education  Self_Employed  \\\n",
       "0  LP001002       0        0           0          0              0   \n",
       "1  LP001003       0        1           1          0              0   \n",
       "2  LP001005       0        1           0          0              1   \n",
       "3  LP001006       0        1           0          1              0   \n",
       "4  LP001008       0        0           0          0              0   \n",
       "\n",
       "   ApplicantIncome  CoapplicantIncome  LoanAmount  Loan_Amount_Term  \\\n",
       "0         2.269462           0.000000    1.790631          1.929908   \n",
       "1         2.243931           2.118566    1.768118          1.929908   \n",
       "2         2.197969           0.000000    1.649561          1.929908   \n",
       "3         2.181219           2.170880    1.757132          1.929908   \n",
       "4         2.272093           0.000000    1.784370          1.929908   \n",
       "\n",
       "   Credit_History  Property_Area  Loan_Status  \n",
       "0        0.526589              0            0  \n",
       "1        0.526589              1            1  \n",
       "2        0.526589              0            0  \n",
       "3        0.526589              0            0  \n",
       "4        0.526589              0            0  "
      ]
     },
     "execution_count": 36,
     "metadata": {},
     "output_type": "execute_result"
    }
   ],
   "source": [
    "train.head()"
   ]
  },
  {
   "cell_type": "code",
   "execution_count": 37,
   "id": "1a5ed7fc",
   "metadata": {},
   "outputs": [],
   "source": [
    "Independent_variables = ['Gender', 'Married', 'Dependents', 'Education',\n",
    "       'Self_Employed', 'ApplicantIncome', 'CoapplicantIncome', 'LoanAmount',\n",
    "       'Loan_Amount_Term', 'Credit_History', 'Property_Area']\n",
    "dependent_variable = 'Loan_Status'"
   ]
  },
  {
   "cell_type": "markdown",
   "id": "4d10a749",
   "metadata": {},
   "source": [
    "## FEATURE SELECTIONS"
   ]
  },
  {
   "cell_type": "code",
   "execution_count": 38,
   "id": "c40f04af",
   "metadata": {},
   "outputs": [],
   "source": [
    "from sklearn.feature_selection import SelectKBest\n",
    "from sklearn.feature_selection import chi2"
   ]
  },
  {
   "cell_type": "code",
   "execution_count": 39,
   "id": "defc4b4c",
   "metadata": {},
   "outputs": [
    {
     "data": {
      "text/plain": [
       "13"
      ]
     },
     "execution_count": 39,
     "metadata": {},
     "output_type": "execute_result"
    }
   ],
   "source": [
    "len(df.columns)"
   ]
  },
  {
   "cell_type": "code",
   "execution_count": 40,
   "id": "3833bf5a",
   "metadata": {},
   "outputs": [
    {
     "name": "stdout",
     "output_type": "stream",
     "text": [
      "                Specs      Score\n",
      "9      Credit_History  13.692017\n",
      "10      Property_Area   4.398854\n",
      "3           Education   3.540502\n",
      "6   CoapplicantIncome   2.833045\n",
      "1             Married   2.047144\n",
      "0              Gender   0.498961\n",
      "4       Self_Employed   0.087261\n",
      "2          Dependents   0.048953\n",
      "7          LoanAmount   0.004080\n",
      "5     ApplicantIncome   0.000256\n"
     ]
    }
   ],
   "source": [
    "X = train[['Gender', 'Married', 'Dependents', 'Education',\n",
    "       'Self_Employed', 'ApplicantIncome', 'CoapplicantIncome', 'LoanAmount',\n",
    "       'Loan_Amount_Term', 'Credit_History', 'Property_Area']]  #independent columns\n",
    "y = train['Loan_Status']\n",
    "\n",
    "bestfeatures = SelectKBest(score_func=chi2, k=10)\n",
    "fit = bestfeatures.fit(X,y)\n",
    "\n",
    "dfscores = pd.DataFrame(fit.scores_)\n",
    "dfcolumns = pd.DataFrame(X.columns)\n",
    "#concat two dataframes for better visualization \n",
    "featureScores = pd.concat([dfcolumns,dfscores],axis=1)\n",
    "featureScores.columns = ['Specs','Score']  #naming the dataframe columns\n",
    "print(featureScores.nlargest(10,'Score'))  #print 10 best features"
   ]
  },
  {
   "cell_type": "code",
   "execution_count": 42,
   "id": "3c70aa72",
   "metadata": {},
   "outputs": [
    {
     "data": {
      "text/plain": [
       "['Credit_History',\n",
       " 'CoapplicantIncome',\n",
       " 'Property_Area',\n",
       " 'Education',\n",
       " 'Married',\n",
       " 'Gender']"
      ]
     },
     "execution_count": 42,
     "metadata": {},
     "output_type": "execute_result"
    }
   ],
   "source": [
    "['Credit_History','CoapplicantIncome','Property_Area','Education','Married','Gender']"
   ]
  },
  {
   "cell_type": "markdown",
   "id": "2407c62c",
   "metadata": {},
   "source": [
    "## feed on all models"
   ]
  },
  {
   "cell_type": "markdown",
   "id": "bb85b2cf",
   "metadata": {},
   "source": [
    "## hyperparameter tuning\n",
    "\n",
    "After feeding data on model, pick one that performs the most ( metrics )"
   ]
  },
  {
   "cell_type": "code",
   "execution_count": 43,
   "id": "994135ed",
   "metadata": {},
   "outputs": [],
   "source": [
    "from sklearn.linear_model import LogisticRegression\n",
    "from sklearn.neural_network import MLPClassifier\n",
    "from sklearn.neighbors import KNeighborsClassifier\n",
    "from sklearn.svm import SVC\n",
    "from sklearn.gaussian_process import GaussianProcessClassifier\n",
    "from sklearn.gaussian_process.kernels import RBF\n",
    "from sklearn.tree import DecisionTreeClassifier\n",
    "from sklearn.ensemble import RandomForestClassifier, AdaBoostClassifier\n",
    "from sklearn.naive_bayes import GaussianNB\n",
    "from sklearn.discriminant_analysis import QuadraticDiscriminantAnalysis\n",
    "\n",
    "#metrics\n",
    "from sklearn.metrics import accuracy_score, precision_score, recall_score, roc_auc_score"
   ]
  },
  {
   "cell_type": "code",
   "execution_count": 47,
   "id": "741ab3a8",
   "metadata": {},
   "outputs": [],
   "source": [
    "names = [\n",
    "    \"Logistic Regression\",\n",
    "    \"Nearest Neighbors\",\n",
    "    \"Linear SVM\",\n",
    "    \"RBF SVM\",\n",
    "    \"Gaussian Process\",\n",
    "    \"Decision Tree\",\n",
    "    \"Random Forest\",\n",
    "    \"Neural Net\",\n",
    "    \"AdaBoost\",\n",
    "    \"Naive Bayes\",\n",
    "    \"QDA\",\n",
    "]\n",
    "\n",
    "classifiers = [\n",
    "    LogisticRegression(penalty='l2'),\n",
    "    KNeighborsClassifier(3),\n",
    "    SVC(kernel=\"linear\", C=0.025),\n",
    "    SVC(gamma=2, C=1),\n",
    "    GaussianProcessClassifier(1.0 * RBF(1.0)),\n",
    "    DecisionTreeClassifier(max_depth=5),\n",
    "    RandomForestClassifier(max_depth=5, n_estimators=10, max_features=1),\n",
    "    MLPClassifier(alpha=1, max_iter=1000),\n",
    "    AdaBoostClassifier(),\n",
    "    GaussianNB(),\n",
    "    QuadraticDiscriminantAnalysis(),\n",
    "]"
   ]
  },
  {
   "cell_type": "code",
   "execution_count": 44,
   "id": "8254052e",
   "metadata": {},
   "outputs": [],
   "source": [
    "from sklearn.model_selection import train_test_split\n",
    "X = train[['Credit_History','CoapplicantIncome','Property_Area','Education','Married','Gender']]  #independent columns\n",
    "y = train['Loan_Status']\n",
    "X_train, X_test, y_train, y_test = train_test_split(X, y, test_size=0.33,random_state=42)"
   ]
  },
  {
   "cell_type": "code",
   "execution_count": 45,
   "id": "48d8d28e",
   "metadata": {},
   "outputs": [
    {
     "data": {
      "text/html": [
       "<div>\n",
       "<style scoped>\n",
       "    .dataframe tbody tr th:only-of-type {\n",
       "        vertical-align: middle;\n",
       "    }\n",
       "\n",
       "    .dataframe tbody tr th {\n",
       "        vertical-align: top;\n",
       "    }\n",
       "\n",
       "    .dataframe thead th {\n",
       "        text-align: right;\n",
       "    }\n",
       "</style>\n",
       "<table border=\"1\" class=\"dataframe\">\n",
       "  <thead>\n",
       "    <tr style=\"text-align: right;\">\n",
       "      <th></th>\n",
       "      <th>Credit_History</th>\n",
       "      <th>CoapplicantIncome</th>\n",
       "      <th>Property_Area</th>\n",
       "      <th>Education</th>\n",
       "      <th>Married</th>\n",
       "      <th>Gender</th>\n",
       "    </tr>\n",
       "  </thead>\n",
       "  <tbody>\n",
       "    <tr>\n",
       "      <th>244</th>\n",
       "      <td>0.526589</td>\n",
       "      <td>2.240012</td>\n",
       "      <td>2</td>\n",
       "      <td>1</td>\n",
       "      <td>1</td>\n",
       "      <td>0</td>\n",
       "    </tr>\n",
       "    <tr>\n",
       "      <th>393</th>\n",
       "      <td>0.526589</td>\n",
       "      <td>2.127503</td>\n",
       "      <td>2</td>\n",
       "      <td>1</td>\n",
       "      <td>1</td>\n",
       "      <td>0</td>\n",
       "    </tr>\n",
       "    <tr>\n",
       "      <th>310</th>\n",
       "      <td>0.526589</td>\n",
       "      <td>0.000000</td>\n",
       "      <td>2</td>\n",
       "      <td>0</td>\n",
       "      <td>0</td>\n",
       "      <td>1</td>\n",
       "    </tr>\n",
       "  </tbody>\n",
       "</table>\n",
       "</div>"
      ],
      "text/plain": [
       "     Credit_History  CoapplicantIncome  Property_Area  Education  Married  \\\n",
       "244        0.526589           2.240012              2          1        1   \n",
       "393        0.526589           2.127503              2          1        1   \n",
       "310        0.526589           0.000000              2          0        0   \n",
       "\n",
       "     Gender  \n",
       "244       0  \n",
       "393       0  \n",
       "310       1  "
      ]
     },
     "execution_count": 45,
     "metadata": {},
     "output_type": "execute_result"
    }
   ],
   "source": [
    "X_train.head(3)"
   ]
  },
  {
   "cell_type": "code",
   "execution_count": 99,
   "id": "0fc8f965",
   "metadata": {},
   "outputs": [
    {
     "data": {
      "text/html": [
       "<div>\n",
       "<style scoped>\n",
       "    .dataframe tbody tr th:only-of-type {\n",
       "        vertical-align: middle;\n",
       "    }\n",
       "\n",
       "    .dataframe tbody tr th {\n",
       "        vertical-align: top;\n",
       "    }\n",
       "\n",
       "    .dataframe thead th {\n",
       "        text-align: right;\n",
       "    }\n",
       "</style>\n",
       "<table border=\"1\" class=\"dataframe\">\n",
       "  <thead>\n",
       "    <tr style=\"text-align: right;\">\n",
       "      <th></th>\n",
       "      <th>Credit_History</th>\n",
       "      <th>CoapplicantIncome</th>\n",
       "      <th>Property_Area</th>\n",
       "      <th>Education</th>\n",
       "      <th>Married</th>\n",
       "      <th>Gender</th>\n",
       "    </tr>\n",
       "  </thead>\n",
       "  <tbody>\n",
       "    <tr>\n",
       "      <th>350</th>\n",
       "      <td>0.693147</td>\n",
       "      <td>0.0</td>\n",
       "      <td>2</td>\n",
       "      <td>0</td>\n",
       "      <td>1</td>\n",
       "      <td>0</td>\n",
       "    </tr>\n",
       "  </tbody>\n",
       "</table>\n",
       "</div>"
      ],
      "text/plain": [
       "     Credit_History  CoapplicantIncome  Property_Area  Education  Married  \\\n",
       "350        0.693147                0.0              2          0        1   \n",
       "\n",
       "     Gender  \n",
       "350       0  "
      ]
     },
     "execution_count": 99,
     "metadata": {},
     "output_type": "execute_result"
    }
   ],
   "source": [
    "X_test.head(1)"
   ]
  },
  {
   "cell_type": "code",
   "execution_count": 48,
   "id": "bc45f5db",
   "metadata": {},
   "outputs": [
    {
     "name": "stderr",
     "output_type": "stream",
     "text": [
      "/Users/apple/Desktop/indicina/coding/model-building-project/env/lib/python3.9/site-packages/sklearn/metrics/_classification.py:1221: UndefinedMetricWarning: Precision is ill-defined and being set to 0.0 due to no predicted samples. Use `zero_division` parameter to control this behavior.\n",
      "  _warn_prf(average, modifier, msg_start, len(result))\n"
     ]
    }
   ],
   "source": [
    "accuracyScores =[]\n",
    "precisionScores=[]\n",
    "recallScoreS=[]\n",
    "roc_aucScoreS=[]\n",
    "\n",
    "\n",
    "for  name, classifier in zip(names, classifiers):\n",
    "    model = classifier.fit(X_train, y_train)\n",
    "    ypred = model.predict(X_test)\n",
    "    accuracyScore = accuracy_score(y_test,ypred)\n",
    "    precisionScore = precision_score(y_test,ypred)\n",
    "    recallScore = recall_score(y_test,ypred)\n",
    "    roc_aucScore = roc_auc_score(y_test,ypred)\n",
    "     \n",
    "    accuracyScores.append(accuracyScore)\n",
    "    precisionScores.append(precisionScore)\n",
    "    recallScoreS.append(recallScore)\n",
    "    roc_aucScoreS.append(roc_aucScore)\n",
    "    \n",
    "    \n",
    "    \n",
    "    \n",
    "    \n"
   ]
  },
  {
   "cell_type": "code",
   "execution_count": 49,
   "id": "6800015a",
   "metadata": {},
   "outputs": [],
   "source": [
    "result = pd.DataFrame(\n",
    "{\n",
    "    \"MODEL_NAME\" : names ,\n",
    "    \" accuracyScores\": accuracyScores,\n",
    "    \"precisionScores\":precisionScores,\n",
    "    \"recallScoreS\":recallScoreS,\n",
    "    \"roc_aucScoreS\":roc_aucScoreS\n",
    "})"
   ]
  },
  {
   "cell_type": "markdown",
   "id": "5192a65e",
   "metadata": {},
   "source": [
    "loan defaulters\n",
    "\n",
    "- TP ( 900, WILL COLLECT LOAN AND PAY BACK)\n",
    "- FP ( 400 WILL COLLECT LOAN AND PAYBACK) ( When you checked your training data it was false)\n",
    "- FN ( 700 YOU SAID THAT WILL NOT PAYBACK) but in reality they actually paid back\n",
    "- TN ( 500 the customers will not pay the loan , don't give them) when you get access to the customer credit score , you will see that they actually don't pay back their loans.\n",
    "\n",
    "precision = TruePositives / (TruePositives + FalsePositives)\n",
    "Recall = TruePositives / (TruePositives + FalseNegatives)\n",
    "accuracy (TP + TN) /( TP + TN + FalseNegatives + FalsePositives)"
   ]
  },
  {
   "cell_type": "code",
   "execution_count": 66,
   "id": "fff350c9",
   "metadata": {},
   "outputs": [],
   "source": [
    "def roc_auc_curve(model, trainX,trainy,testX,testy):\n",
    "    ns_probs = [0 for _ in range(len(testy))]\n",
    "    from sklearn.metrics import roc_curve\n",
    "    from sklearn.metrics import roc_auc_score\n",
    "    from matplotlib import pyplot\n",
    "    model.fit(trainX, trainy)\n",
    "    # predict probabilities\n",
    "    lr_probs = model.predict_proba(testX)\n",
    "    # keep probabilities for the positive outcome only\n",
    "    lr_probs = lr_probs[:, 1]\n",
    "    # calculate scores\n",
    "    ns_auc = roc_auc_score(testy, ns_probs)\n",
    "    lr_auc = roc_auc_score(testy, lr_probs)\n",
    "    # summarize scores\n",
    "    print('No Skill: ROC AUC=%.3f' % (ns_auc))\n",
    "    print('Logistic: ROC AUC=%.3f' % (lr_auc))\n",
    "    # calculate roc curves\n",
    "    ns_fpr, ns_tpr, _ = roc_curve(testy, ns_probs)\n",
    "    lr_fpr, lr_tpr, _ = roc_curve(testy, lr_probs)\n",
    "    # plot the roc curve for the model\n",
    "    pyplot.plot(ns_fpr, ns_tpr, linestyle='--', label='No Skill')\n",
    "    pyplot.plot(lr_fpr, lr_tpr, marker='.', label='Logistic')\n",
    "    # axis labels\n",
    "    pyplot.xlabel('False Positive Rate')\n",
    "    pyplot.ylabel('True Positive Rate')\n",
    "    # show the legend\n",
    "    pyplot.legend()\n",
    "    # show the plot\n",
    "    pyplot.show()"
   ]
  },
  {
   "cell_type": "code",
   "execution_count": 51,
   "id": "3c4e308f",
   "metadata": {},
   "outputs": [
    {
     "data": {
      "text/html": [
       "<div>\n",
       "<style scoped>\n",
       "    .dataframe tbody tr th:only-of-type {\n",
       "        vertical-align: middle;\n",
       "    }\n",
       "\n",
       "    .dataframe tbody tr th {\n",
       "        vertical-align: top;\n",
       "    }\n",
       "\n",
       "    .dataframe thead th {\n",
       "        text-align: right;\n",
       "    }\n",
       "</style>\n",
       "<table border=\"1\" class=\"dataframe\">\n",
       "  <thead>\n",
       "    <tr style=\"text-align: right;\">\n",
       "      <th></th>\n",
       "      <th>MODEL_NAME</th>\n",
       "      <th>accuracyScores</th>\n",
       "      <th>precisionScores</th>\n",
       "      <th>recallScoreS</th>\n",
       "      <th>roc_aucScoreS</th>\n",
       "    </tr>\n",
       "  </thead>\n",
       "  <tbody>\n",
       "    <tr>\n",
       "      <th>0</th>\n",
       "      <td>Logistic Regression</td>\n",
       "      <td>0.798030</td>\n",
       "      <td>0.942857</td>\n",
       "      <td>0.458333</td>\n",
       "      <td>0.721533</td>\n",
       "    </tr>\n",
       "    <tr>\n",
       "      <th>1</th>\n",
       "      <td>Nearest Neighbors</td>\n",
       "      <td>0.729064</td>\n",
       "      <td>0.707317</td>\n",
       "      <td>0.402778</td>\n",
       "      <td>0.655587</td>\n",
       "    </tr>\n",
       "    <tr>\n",
       "      <th>2</th>\n",
       "      <td>Linear SVM</td>\n",
       "      <td>0.645320</td>\n",
       "      <td>0.000000</td>\n",
       "      <td>0.000000</td>\n",
       "      <td>0.500000</td>\n",
       "    </tr>\n",
       "    <tr>\n",
       "      <th>3</th>\n",
       "      <td>RBF SVM</td>\n",
       "      <td>0.758621</td>\n",
       "      <td>0.848485</td>\n",
       "      <td>0.388889</td>\n",
       "      <td>0.675360</td>\n",
       "    </tr>\n",
       "    <tr>\n",
       "      <th>4</th>\n",
       "      <td>Gaussian Process</td>\n",
       "      <td>0.798030</td>\n",
       "      <td>0.942857</td>\n",
       "      <td>0.458333</td>\n",
       "      <td>0.721533</td>\n",
       "    </tr>\n",
       "    <tr>\n",
       "      <th>5</th>\n",
       "      <td>Decision Tree</td>\n",
       "      <td>0.783251</td>\n",
       "      <td>0.868421</td>\n",
       "      <td>0.458333</td>\n",
       "      <td>0.710083</td>\n",
       "    </tr>\n",
       "    <tr>\n",
       "      <th>6</th>\n",
       "      <td>Random Forest</td>\n",
       "      <td>0.793103</td>\n",
       "      <td>0.941176</td>\n",
       "      <td>0.444444</td>\n",
       "      <td>0.714589</td>\n",
       "    </tr>\n",
       "    <tr>\n",
       "      <th>7</th>\n",
       "      <td>Neural Net</td>\n",
       "      <td>0.650246</td>\n",
       "      <td>1.000000</td>\n",
       "      <td>0.013889</td>\n",
       "      <td>0.506944</td>\n",
       "    </tr>\n",
       "    <tr>\n",
       "      <th>8</th>\n",
       "      <td>AdaBoost</td>\n",
       "      <td>0.798030</td>\n",
       "      <td>0.942857</td>\n",
       "      <td>0.458333</td>\n",
       "      <td>0.721533</td>\n",
       "    </tr>\n",
       "    <tr>\n",
       "      <th>9</th>\n",
       "      <td>Naive Bayes</td>\n",
       "      <td>0.798030</td>\n",
       "      <td>0.942857</td>\n",
       "      <td>0.458333</td>\n",
       "      <td>0.721533</td>\n",
       "    </tr>\n",
       "    <tr>\n",
       "      <th>10</th>\n",
       "      <td>QDA</td>\n",
       "      <td>0.798030</td>\n",
       "      <td>0.942857</td>\n",
       "      <td>0.458333</td>\n",
       "      <td>0.721533</td>\n",
       "    </tr>\n",
       "  </tbody>\n",
       "</table>\n",
       "</div>"
      ],
      "text/plain": [
       "             MODEL_NAME   accuracyScores  precisionScores  recallScoreS  \\\n",
       "0   Logistic Regression         0.798030         0.942857      0.458333   \n",
       "1     Nearest Neighbors         0.729064         0.707317      0.402778   \n",
       "2            Linear SVM         0.645320         0.000000      0.000000   \n",
       "3               RBF SVM         0.758621         0.848485      0.388889   \n",
       "4      Gaussian Process         0.798030         0.942857      0.458333   \n",
       "5         Decision Tree         0.783251         0.868421      0.458333   \n",
       "6         Random Forest         0.793103         0.941176      0.444444   \n",
       "7            Neural Net         0.650246         1.000000      0.013889   \n",
       "8              AdaBoost         0.798030         0.942857      0.458333   \n",
       "9           Naive Bayes         0.798030         0.942857      0.458333   \n",
       "10                  QDA         0.798030         0.942857      0.458333   \n",
       "\n",
       "    roc_aucScoreS  \n",
       "0        0.721533  \n",
       "1        0.655587  \n",
       "2        0.500000  \n",
       "3        0.675360  \n",
       "4        0.721533  \n",
       "5        0.710083  \n",
       "6        0.714589  \n",
       "7        0.506944  \n",
       "8        0.721533  \n",
       "9        0.721533  \n",
       "10       0.721533  "
      ]
     },
     "execution_count": 51,
     "metadata": {},
     "output_type": "execute_result"
    }
   ],
   "source": [
    "result"
   ]
  },
  {
   "cell_type": "code",
   "execution_count": 104,
   "id": "d990059a",
   "metadata": {},
   "outputs": [
    {
     "data": {
      "text/html": [
       "<div>\n",
       "<style scoped>\n",
       "    .dataframe tbody tr th:only-of-type {\n",
       "        vertical-align: middle;\n",
       "    }\n",
       "\n",
       "    .dataframe tbody tr th {\n",
       "        vertical-align: top;\n",
       "    }\n",
       "\n",
       "    .dataframe thead th {\n",
       "        text-align: right;\n",
       "    }\n",
       "</style>\n",
       "<table border=\"1\" class=\"dataframe\">\n",
       "  <thead>\n",
       "    <tr style=\"text-align: right;\">\n",
       "      <th></th>\n",
       "      <th>MODEL_NAME</th>\n",
       "      <th>accuracyScores</th>\n",
       "      <th>precisionScores</th>\n",
       "      <th>recallScoreS</th>\n",
       "      <th>roc_aucScoreS</th>\n",
       "    </tr>\n",
       "  </thead>\n",
       "  <tbody>\n",
       "    <tr>\n",
       "      <th>0</th>\n",
       "      <td>Logistic Regression</td>\n",
       "      <td>0.798030</td>\n",
       "      <td>0.942857</td>\n",
       "      <td>0.458333</td>\n",
       "      <td>0.721533</td>\n",
       "    </tr>\n",
       "    <tr>\n",
       "      <th>4</th>\n",
       "      <td>Gaussian Process</td>\n",
       "      <td>0.798030</td>\n",
       "      <td>0.942857</td>\n",
       "      <td>0.458333</td>\n",
       "      <td>0.721533</td>\n",
       "    </tr>\n",
       "    <tr>\n",
       "      <th>6</th>\n",
       "      <td>Random Forest</td>\n",
       "      <td>0.798030</td>\n",
       "      <td>0.942857</td>\n",
       "      <td>0.458333</td>\n",
       "      <td>0.721533</td>\n",
       "    </tr>\n",
       "    <tr>\n",
       "      <th>8</th>\n",
       "      <td>AdaBoost</td>\n",
       "      <td>0.798030</td>\n",
       "      <td>0.942857</td>\n",
       "      <td>0.458333</td>\n",
       "      <td>0.721533</td>\n",
       "    </tr>\n",
       "    <tr>\n",
       "      <th>9</th>\n",
       "      <td>Naive Bayes</td>\n",
       "      <td>0.798030</td>\n",
       "      <td>0.942857</td>\n",
       "      <td>0.458333</td>\n",
       "      <td>0.721533</td>\n",
       "    </tr>\n",
       "    <tr>\n",
       "      <th>10</th>\n",
       "      <td>QDA</td>\n",
       "      <td>0.798030</td>\n",
       "      <td>0.942857</td>\n",
       "      <td>0.458333</td>\n",
       "      <td>0.721533</td>\n",
       "    </tr>\n",
       "    <tr>\n",
       "      <th>5</th>\n",
       "      <td>Decision Tree</td>\n",
       "      <td>0.783251</td>\n",
       "      <td>0.868421</td>\n",
       "      <td>0.458333</td>\n",
       "      <td>0.710083</td>\n",
       "    </tr>\n",
       "    <tr>\n",
       "      <th>3</th>\n",
       "      <td>RBF SVM</td>\n",
       "      <td>0.753695</td>\n",
       "      <td>0.892857</td>\n",
       "      <td>0.347222</td>\n",
       "      <td>0.662161</td>\n",
       "    </tr>\n",
       "    <tr>\n",
       "      <th>1</th>\n",
       "      <td>Nearest Neighbors</td>\n",
       "      <td>0.709360</td>\n",
       "      <td>0.658537</td>\n",
       "      <td>0.375000</td>\n",
       "      <td>0.634065</td>\n",
       "    </tr>\n",
       "    <tr>\n",
       "      <th>7</th>\n",
       "      <td>Neural Net</td>\n",
       "      <td>0.660099</td>\n",
       "      <td>1.000000</td>\n",
       "      <td>0.041667</td>\n",
       "      <td>0.520833</td>\n",
       "    </tr>\n",
       "    <tr>\n",
       "      <th>2</th>\n",
       "      <td>Linear SVM</td>\n",
       "      <td>0.645320</td>\n",
       "      <td>0.000000</td>\n",
       "      <td>0.000000</td>\n",
       "      <td>0.500000</td>\n",
       "    </tr>\n",
       "  </tbody>\n",
       "</table>\n",
       "</div>"
      ],
      "text/plain": [
       "             MODEL_NAME   accuracyScores  precisionScores  recallScoreS  \\\n",
       "0   Logistic Regression         0.798030         0.942857      0.458333   \n",
       "4      Gaussian Process         0.798030         0.942857      0.458333   \n",
       "6         Random Forest         0.798030         0.942857      0.458333   \n",
       "8              AdaBoost         0.798030         0.942857      0.458333   \n",
       "9           Naive Bayes         0.798030         0.942857      0.458333   \n",
       "10                  QDA         0.798030         0.942857      0.458333   \n",
       "5         Decision Tree         0.783251         0.868421      0.458333   \n",
       "3               RBF SVM         0.753695         0.892857      0.347222   \n",
       "1     Nearest Neighbors         0.709360         0.658537      0.375000   \n",
       "7            Neural Net         0.660099         1.000000      0.041667   \n",
       "2            Linear SVM         0.645320         0.000000      0.000000   \n",
       "\n",
       "    roc_aucScoreS  \n",
       "0        0.721533  \n",
       "4        0.721533  \n",
       "6        0.721533  \n",
       "8        0.721533  \n",
       "9        0.721533  \n",
       "10       0.721533  \n",
       "5        0.710083  \n",
       "3        0.662161  \n",
       "1        0.634065  \n",
       "7        0.520833  \n",
       "2        0.500000  "
      ]
     },
     "execution_count": 104,
     "metadata": {},
     "output_type": "execute_result"
    }
   ],
   "source": [
    "result.sort_values(by =['roc_aucScoreS'], ascending=False)"
   ]
  },
  {
   "cell_type": "code",
   "execution_count": 59,
   "id": "4980d406",
   "metadata": {},
   "outputs": [
    {
     "data": {
      "text/plain": [
       "<sklearn.metrics._plot.confusion_matrix.ConfusionMatrixDisplay at 0x1256498e0>"
      ]
     },
     "execution_count": 59,
     "metadata": {},
     "output_type": "execute_result"
    },
    {
     "data": {
      "image/png": "[encoded data removed]",
      "text/plain": [
       "<Figure size 432x288 with 2 Axes>"
      ]
     },
     "metadata": {
      "needs_background": "light"
     },
     "output_type": "display_data"
    }
   ],
   "source": [
    "import matplotlib.pyplot as plt\n",
    "\n",
    "from sklearn.metrics import plot_confusion_matrix\n",
    "model = LogisticRegression(penalty='l2')\n",
    "model.fit(X_train, y_train)\n",
    "plot_confusion_matrix(model, X_test, y_test)  "
   ]
  },
  {
   "cell_type": "code",
   "execution_count": 67,
   "id": "cec00460",
   "metadata": {},
   "outputs": [
    {
     "name": "stdout",
     "output_type": "stream",
     "text": [
      "No Skill: ROC AUC=0.500\n",
      "Logistic: ROC AUC=0.754\n"
     ]
    },
    {
     "data": {
      "image/png": "[encoded data removed]",
      "text/plain": [
       "<Figure size 432x288 with 1 Axes>"
      ]
     },
     "metadata": {
      "needs_background": "light"
     },
     "output_type": "display_data"
    }
   ],
   "source": [
    "roc_auc_curve(model, X_train,y_train,X_test,y_test)"
   ]
  },
  {
   "cell_type": "markdown",
   "id": "f12d05be",
   "metadata": {},
   "source": [
    "### 2ND MODEL"
   ]
  },
  {
   "cell_type": "code",
   "execution_count": 68,
   "id": "0b8db4bc",
   "metadata": {},
   "outputs": [
    {
     "data": {
      "text/plain": [
       "<sklearn.metrics._plot.confusion_matrix.ConfusionMatrixDisplay at 0x125773250>"
      ]
     },
     "execution_count": 68,
     "metadata": {},
     "output_type": "execute_result"
    },
    {
     "data": {
      "image/png": "[encoded data removed]",
      "text/plain": [
       "<Figure size 432x288 with 2 Axes>"
      ]
     },
     "metadata": {
      "needs_background": "light"
     },
     "output_type": "display_data"
    }
   ],
   "source": [
    "import matplotlib.pyplot as plt\n",
    "\n",
    "from sklearn.metrics import plot_confusion_matrix\n",
    "model =KNeighborsClassifier(3)\n",
    "model.fit(X_train, y_train)\n",
    "plot_confusion_matrix(model, X_test, y_test)  "
   ]
  },
  {
   "cell_type": "code",
   "execution_count": 69,
   "id": "6981d59c",
   "metadata": {},
   "outputs": [
    {
     "name": "stdout",
     "output_type": "stream",
     "text": [
      "No Skill: ROC AUC=0.500\n",
      "Logistic: ROC AUC=0.712\n"
     ]
    },
    {
     "data": {
      "image/png": "[encoded data removed]",
      "text/plain": [
       "<Figure size 432x288 with 1 Axes>"
      ]
     },
     "metadata": {
      "needs_background": "light"
     },
     "output_type": "display_data"
    }
   ],
   "source": [
    "roc_auc_curve(model, X_train,y_train,X_test,y_test)"
   ]
  },
  {
   "cell_type": "code",
   "execution_count": 70,
   "id": "5c0f4147",
   "metadata": {},
   "outputs": [
    {
     "data": {
      "text/plain": [
       "<sklearn.metrics._plot.confusion_matrix.ConfusionMatrixDisplay at 0x125773400>"
      ]
     },
     "execution_count": 70,
     "metadata": {},
     "output_type": "execute_result"
    },
    {
     "data": {
      "image/png": "[encoded data removed]",
      "text/plain": [
       "<Figure size 432x288 with 2 Axes>"
      ]
     },
     "metadata": {
      "needs_background": "light"
     },
     "output_type": "display_data"
    }
   ],
   "source": [
    "import matplotlib.pyplot as plt\n",
    "\n",
    "from sklearn.metrics import plot_confusion_matrix\n",
    "model =SVC(kernel=\"linear\", C=0.025)\n",
    "model.fit(X_train, y_train)\n",
    "plot_confusion_matrix(model, X_test, y_test)  "
   ]
  },
  {
   "cell_type": "code",
   "execution_count": 72,
   "id": "ab03d289",
   "metadata": {},
   "outputs": [],
   "source": [
    "# roc_auc_curve(model, X_train,y_train,X_test,y_test)"
   ]
  },
  {
   "cell_type": "code",
   "execution_count": 73,
   "id": "d7c436a9",
   "metadata": {},
   "outputs": [
    {
     "data": {
      "text/plain": [
       "<sklearn.metrics._plot.confusion_matrix.ConfusionMatrixDisplay at 0x1259167c0>"
      ]
     },
     "execution_count": 73,
     "metadata": {},
     "output_type": "execute_result"
    },
    {
     "data": {
      "image/png": "[encoded data removed]",
      "text/plain": [
       "<Figure size 432x288 with 2 Axes>"
      ]
     },
     "metadata": {
      "needs_background": "light"
     },
     "output_type": "display_data"
    }
   ],
   "source": [
    "import matplotlib.pyplot as plt\n",
    "\n",
    "from sklearn.metrics import plot_confusion_matrix\n",
    "model =GaussianProcessClassifier(1.0 * RBF(1.0))\n",
    "model.fit(X_train, y_train)\n",
    "plot_confusion_matrix(model, X_test, y_test)  "
   ]
  },
  {
   "cell_type": "code",
   "execution_count": 74,
   "id": "caabc6e9",
   "metadata": {},
   "outputs": [
    {
     "name": "stdout",
     "output_type": "stream",
     "text": [
      "No Skill: ROC AUC=0.500\n",
      "Logistic: ROC AUC=0.759\n"
     ]
    },
    {
     "data": {
      "image/png": "[encoded data removed]",
      "text/plain": [
       "<Figure size 432x288 with 1 Axes>"
      ]
     },
     "metadata": {
      "needs_background": "light"
     },
     "output_type": "display_data"
    }
   ],
   "source": [
    "roc_auc_curve(model, X_train,y_train,X_test,y_test)"
   ]
  },
  {
   "cell_type": "markdown",
   "id": "cfd0335b",
   "metadata": {},
   "source": [
    "REGRESSION MODELS (here we are not talking about classification)\n",
    "- Ridge regression\n",
    "- Linear regression\n",
    "- Polynomial regression\n",
    "- Lasso regression\n",
    "\n",
    "\n",
    "Mean Squared Error\n",
    "Root Mean Squared Error\n",
    "Mean Absolute Error\n",
    "\n",
    "yi is the observed value.\n",
    "ŷi is the corresponding predicted value.\n",
    "n = the number of observations.\n",
    "\n",
    "\n",
    "MSE = ( yi - ŷi)**2/n\n",
    "RMSE = squareroot (MSE)\n",
    "MAE = summation( yi - ŷi)/no of observations\n",
    "\n",
    "\n"
   ]
  },
  {
   "cell_type": "markdown",
   "id": "b5a5dfea",
   "metadata": {},
   "source": [
    "stocks ( MTN, Nestle, Airtel stock)\n",
    "real_life ( 100, 145, 500)\n",
    "model predicted (45, 400, 345) (model 1)\n",
    "model 2( 90, 130, 480)"
   ]
  },
  {
   "cell_type": "code",
   "execution_count": 75,
   "id": "218df4f4",
   "metadata": {},
   "outputs": [
    {
     "data": {
      "text/plain": [
       "76058.33333333333"
      ]
     },
     "execution_count": 75,
     "metadata": {},
     "output_type": "execute_result"
    }
   ],
   "source": [
    "(100-45)**2 + (145-400)**2 + (500 - 345)**2/3"
   ]
  },
  {
   "cell_type": "code",
   "execution_count": 77,
   "id": "84ac35d2",
   "metadata": {},
   "outputs": [
    {
     "data": {
      "text/plain": [
       "275.7867533681292"
      ]
     },
     "execution_count": 77,
     "metadata": {},
     "output_type": "execute_result"
    }
   ],
   "source": [
    "import math \n",
    "math.sqrt(76058.33333333333)"
   ]
  },
  {
   "cell_type": "code",
   "execution_count": 78,
   "id": "e703c07b",
   "metadata": {},
   "outputs": [
    {
     "data": {
      "text/plain": [
       "16.606828516249852"
      ]
     },
     "execution_count": 78,
     "metadata": {},
     "output_type": "execute_result"
    }
   ],
   "source": [
    "(100-90)**2 + (145-130)**2 + (500 - 480)**2/3\n",
    "math.sqrt(275.7867533681292)"
   ]
  },
  {
   "cell_type": "markdown",
   "id": "28788040",
   "metadata": {},
   "source": [
    "## Regression"
   ]
  },
  {
   "cell_type": "code",
   "execution_count": 105,
   "id": "db89b541",
   "metadata": {},
   "outputs": [
    {
     "data": {
      "text/html": [
       "<div>\n",
       "<style scoped>\n",
       "    .dataframe tbody tr th:only-of-type {\n",
       "        vertical-align: middle;\n",
       "    }\n",
       "\n",
       "    .dataframe tbody tr th {\n",
       "        vertical-align: top;\n",
       "    }\n",
       "\n",
       "    .dataframe thead th {\n",
       "        text-align: right;\n",
       "    }\n",
       "</style>\n",
       "<table border=\"1\" class=\"dataframe\">\n",
       "  <thead>\n",
       "    <tr style=\"text-align: right;\">\n",
       "      <th></th>\n",
       "      <th>Loan_ID</th>\n",
       "      <th>Gender</th>\n",
       "      <th>Married</th>\n",
       "      <th>Dependents</th>\n",
       "      <th>Education</th>\n",
       "      <th>Self_Employed</th>\n",
       "      <th>ApplicantIncome</th>\n",
       "      <th>CoapplicantIncome</th>\n",
       "      <th>LoanAmount</th>\n",
       "      <th>Loan_Amount_Term</th>\n",
       "      <th>Credit_History</th>\n",
       "      <th>Property_Area</th>\n",
       "      <th>Loan_Status</th>\n",
       "    </tr>\n",
       "  </thead>\n",
       "  <tbody>\n",
       "    <tr>\n",
       "      <th>0</th>\n",
       "      <td>LP001002</td>\n",
       "      <td>0</td>\n",
       "      <td>0</td>\n",
       "      <td>0</td>\n",
       "      <td>0</td>\n",
       "      <td>0</td>\n",
       "      <td>8.674197</td>\n",
       "      <td>0.000000</td>\n",
       "      <td>4.993232</td>\n",
       "      <td>5.888878</td>\n",
       "      <td>0.693147</td>\n",
       "      <td>0</td>\n",
       "      <td>0</td>\n",
       "    </tr>\n",
       "    <tr>\n",
       "      <th>1</th>\n",
       "      <td>LP001003</td>\n",
       "      <td>0</td>\n",
       "      <td>1</td>\n",
       "      <td>1</td>\n",
       "      <td>0</td>\n",
       "      <td>0</td>\n",
       "      <td>8.430327</td>\n",
       "      <td>7.319202</td>\n",
       "      <td>4.859812</td>\n",
       "      <td>5.888878</td>\n",
       "      <td>0.693147</td>\n",
       "      <td>1</td>\n",
       "      <td>1</td>\n",
       "    </tr>\n",
       "    <tr>\n",
       "      <th>2</th>\n",
       "      <td>LP001005</td>\n",
       "      <td>0</td>\n",
       "      <td>1</td>\n",
       "      <td>0</td>\n",
       "      <td>0</td>\n",
       "      <td>1</td>\n",
       "      <td>8.006701</td>\n",
       "      <td>0.000000</td>\n",
       "      <td>4.204693</td>\n",
       "      <td>5.888878</td>\n",
       "      <td>0.693147</td>\n",
       "      <td>0</td>\n",
       "      <td>0</td>\n",
       "    </tr>\n",
       "    <tr>\n",
       "      <th>3</th>\n",
       "      <td>LP001006</td>\n",
       "      <td>0</td>\n",
       "      <td>1</td>\n",
       "      <td>0</td>\n",
       "      <td>1</td>\n",
       "      <td>0</td>\n",
       "      <td>7.857094</td>\n",
       "      <td>7.765993</td>\n",
       "      <td>4.795791</td>\n",
       "      <td>5.888878</td>\n",
       "      <td>0.693147</td>\n",
       "      <td>0</td>\n",
       "      <td>0</td>\n",
       "    </tr>\n",
       "    <tr>\n",
       "      <th>4</th>\n",
       "      <td>LP001008</td>\n",
       "      <td>0</td>\n",
       "      <td>0</td>\n",
       "      <td>0</td>\n",
       "      <td>0</td>\n",
       "      <td>0</td>\n",
       "      <td>8.699681</td>\n",
       "      <td>0.000000</td>\n",
       "      <td>4.955827</td>\n",
       "      <td>5.888878</td>\n",
       "      <td>0.693147</td>\n",
       "      <td>0</td>\n",
       "      <td>0</td>\n",
       "    </tr>\n",
       "    <tr>\n",
       "      <th>...</th>\n",
       "      <td>...</td>\n",
       "      <td>...</td>\n",
       "      <td>...</td>\n",
       "      <td>...</td>\n",
       "      <td>...</td>\n",
       "      <td>...</td>\n",
       "      <td>...</td>\n",
       "      <td>...</td>\n",
       "      <td>...</td>\n",
       "      <td>...</td>\n",
       "      <td>...</td>\n",
       "      <td>...</td>\n",
       "      <td>...</td>\n",
       "    </tr>\n",
       "    <tr>\n",
       "      <th>609</th>\n",
       "      <td>LP002978</td>\n",
       "      <td>1</td>\n",
       "      <td>0</td>\n",
       "      <td>0</td>\n",
       "      <td>0</td>\n",
       "      <td>0</td>\n",
       "      <td>7.972811</td>\n",
       "      <td>0.000000</td>\n",
       "      <td>4.276666</td>\n",
       "      <td>5.888878</td>\n",
       "      <td>0.693147</td>\n",
       "      <td>1</td>\n",
       "      <td>0</td>\n",
       "    </tr>\n",
       "    <tr>\n",
       "      <th>610</th>\n",
       "      <td>LP002979</td>\n",
       "      <td>0</td>\n",
       "      <td>1</td>\n",
       "      <td>3</td>\n",
       "      <td>0</td>\n",
       "      <td>0</td>\n",
       "      <td>8.320448</td>\n",
       "      <td>0.000000</td>\n",
       "      <td>3.713572</td>\n",
       "      <td>5.198497</td>\n",
       "      <td>0.693147</td>\n",
       "      <td>1</td>\n",
       "      <td>0</td>\n",
       "    </tr>\n",
       "    <tr>\n",
       "      <th>611</th>\n",
       "      <td>LP002983</td>\n",
       "      <td>0</td>\n",
       "      <td>1</td>\n",
       "      <td>1</td>\n",
       "      <td>0</td>\n",
       "      <td>0</td>\n",
       "      <td>8.996280</td>\n",
       "      <td>5.484797</td>\n",
       "      <td>5.537334</td>\n",
       "      <td>5.888878</td>\n",
       "      <td>0.693147</td>\n",
       "      <td>0</td>\n",
       "      <td>0</td>\n",
       "    </tr>\n",
       "    <tr>\n",
       "      <th>612</th>\n",
       "      <td>LP002984</td>\n",
       "      <td>0</td>\n",
       "      <td>1</td>\n",
       "      <td>2</td>\n",
       "      <td>0</td>\n",
       "      <td>0</td>\n",
       "      <td>8.933796</td>\n",
       "      <td>0.000000</td>\n",
       "      <td>5.236442</td>\n",
       "      <td>5.888878</td>\n",
       "      <td>0.693147</td>\n",
       "      <td>0</td>\n",
       "      <td>0</td>\n",
       "    </tr>\n",
       "    <tr>\n",
       "      <th>613</th>\n",
       "      <td>LP002990</td>\n",
       "      <td>1</td>\n",
       "      <td>0</td>\n",
       "      <td>0</td>\n",
       "      <td>0</td>\n",
       "      <td>1</td>\n",
       "      <td>8.430327</td>\n",
       "      <td>0.000000</td>\n",
       "      <td>4.897840</td>\n",
       "      <td>5.888878</td>\n",
       "      <td>0.000000</td>\n",
       "      <td>2</td>\n",
       "      <td>1</td>\n",
       "    </tr>\n",
       "  </tbody>\n",
       "</table>\n",
       "<p>614 rows × 13 columns</p>\n",
       "</div>"
      ],
      "text/plain": [
       "      Loan_ID  Gender  Married  Dependents  Education  Self_Employed  \\\n",
       "0    LP001002       0        0           0          0              0   \n",
       "1    LP001003       0        1           1          0              0   \n",
       "2    LP001005       0        1           0          0              1   \n",
       "3    LP001006       0        1           0          1              0   \n",
       "4    LP001008       0        0           0          0              0   \n",
       "..        ...     ...      ...         ...        ...            ...   \n",
       "609  LP002978       1        0           0          0              0   \n",
       "610  LP002979       0        1           3          0              0   \n",
       "611  LP002983       0        1           1          0              0   \n",
       "612  LP002984       0        1           2          0              0   \n",
       "613  LP002990       1        0           0          0              1   \n",
       "\n",
       "     ApplicantIncome  CoapplicantIncome  LoanAmount  Loan_Amount_Term  \\\n",
       "0           8.674197           0.000000    4.993232          5.888878   \n",
       "1           8.430327           7.319202    4.859812          5.888878   \n",
       "2           8.006701           0.000000    4.204693          5.888878   \n",
       "3           7.857094           7.765993    4.795791          5.888878   \n",
       "4           8.699681           0.000000    4.955827          5.888878   \n",
       "..               ...                ...         ...               ...   \n",
       "609         7.972811           0.000000    4.276666          5.888878   \n",
       "610         8.320448           0.000000    3.713572          5.198497   \n",
       "611         8.996280           5.484797    5.537334          5.888878   \n",
       "612         8.933796           0.000000    5.236442          5.888878   \n",
       "613         8.430327           0.000000    4.897840          5.888878   \n",
       "\n",
       "     Credit_History  Property_Area  Loan_Status  \n",
       "0          0.693147              0            0  \n",
       "1          0.693147              1            1  \n",
       "2          0.693147              0            0  \n",
       "3          0.693147              0            0  \n",
       "4          0.693147              0            0  \n",
       "..              ...            ...          ...  \n",
       "609        0.693147              1            0  \n",
       "610        0.693147              1            0  \n",
       "611        0.693147              0            0  \n",
       "612        0.693147              0            0  \n",
       "613        0.000000              2            1  \n",
       "\n",
       "[614 rows x 13 columns]"
      ]
     },
     "execution_count": 105,
     "metadata": {},
     "output_type": "execute_result"
    }
   ],
   "source": [
    "train"
   ]
  },
  {
   "cell_type": "code",
   "execution_count": 79,
   "id": "82b50c27",
   "metadata": {},
   "outputs": [
    {
     "data": {
      "text/html": [
       "<div>\n",
       "<style scoped>\n",
       "    .dataframe tbody tr th:only-of-type {\n",
       "        vertical-align: middle;\n",
       "    }\n",
       "\n",
       "    .dataframe tbody tr th {\n",
       "        vertical-align: top;\n",
       "    }\n",
       "\n",
       "    .dataframe thead th {\n",
       "        text-align: right;\n",
       "    }\n",
       "</style>\n",
       "<table border=\"1\" class=\"dataframe\">\n",
       "  <thead>\n",
       "    <tr style=\"text-align: right;\">\n",
       "      <th></th>\n",
       "      <th>Loan_ID</th>\n",
       "      <th>Gender</th>\n",
       "      <th>Married</th>\n",
       "      <th>Dependents</th>\n",
       "      <th>Education</th>\n",
       "      <th>Self_Employed</th>\n",
       "      <th>ApplicantIncome</th>\n",
       "      <th>CoapplicantIncome</th>\n",
       "      <th>LoanAmount</th>\n",
       "      <th>Loan_Amount_Term</th>\n",
       "      <th>Credit_History</th>\n",
       "      <th>Property_Area</th>\n",
       "      <th>Loan_Status</th>\n",
       "    </tr>\n",
       "  </thead>\n",
       "  <tbody>\n",
       "    <tr>\n",
       "      <th>0</th>\n",
       "      <td>LP001002</td>\n",
       "      <td>0</td>\n",
       "      <td>0</td>\n",
       "      <td>0</td>\n",
       "      <td>0</td>\n",
       "      <td>0</td>\n",
       "      <td>2.269462</td>\n",
       "      <td>0.000000</td>\n",
       "      <td>1.790631</td>\n",
       "      <td>1.929908</td>\n",
       "      <td>0.526589</td>\n",
       "      <td>0</td>\n",
       "      <td>0</td>\n",
       "    </tr>\n",
       "    <tr>\n",
       "      <th>1</th>\n",
       "      <td>LP001003</td>\n",
       "      <td>0</td>\n",
       "      <td>1</td>\n",
       "      <td>1</td>\n",
       "      <td>0</td>\n",
       "      <td>0</td>\n",
       "      <td>2.243931</td>\n",
       "      <td>2.118566</td>\n",
       "      <td>1.768118</td>\n",
       "      <td>1.929908</td>\n",
       "      <td>0.526589</td>\n",
       "      <td>1</td>\n",
       "      <td>1</td>\n",
       "    </tr>\n",
       "    <tr>\n",
       "      <th>2</th>\n",
       "      <td>LP001005</td>\n",
       "      <td>0</td>\n",
       "      <td>1</td>\n",
       "      <td>0</td>\n",
       "      <td>0</td>\n",
       "      <td>1</td>\n",
       "      <td>2.197969</td>\n",
       "      <td>0.000000</td>\n",
       "      <td>1.649561</td>\n",
       "      <td>1.929908</td>\n",
       "      <td>0.526589</td>\n",
       "      <td>0</td>\n",
       "      <td>0</td>\n",
       "    </tr>\n",
       "    <tr>\n",
       "      <th>3</th>\n",
       "      <td>LP001006</td>\n",
       "      <td>0</td>\n",
       "      <td>1</td>\n",
       "      <td>0</td>\n",
       "      <td>1</td>\n",
       "      <td>0</td>\n",
       "      <td>2.181219</td>\n",
       "      <td>2.170880</td>\n",
       "      <td>1.757132</td>\n",
       "      <td>1.929908</td>\n",
       "      <td>0.526589</td>\n",
       "      <td>0</td>\n",
       "      <td>0</td>\n",
       "    </tr>\n",
       "    <tr>\n",
       "      <th>4</th>\n",
       "      <td>LP001008</td>\n",
       "      <td>0</td>\n",
       "      <td>0</td>\n",
       "      <td>0</td>\n",
       "      <td>0</td>\n",
       "      <td>0</td>\n",
       "      <td>2.272093</td>\n",
       "      <td>0.000000</td>\n",
       "      <td>1.784370</td>\n",
       "      <td>1.929908</td>\n",
       "      <td>0.526589</td>\n",
       "      <td>0</td>\n",
       "      <td>0</td>\n",
       "    </tr>\n",
       "    <tr>\n",
       "      <th>...</th>\n",
       "      <td>...</td>\n",
       "      <td>...</td>\n",
       "      <td>...</td>\n",
       "      <td>...</td>\n",
       "      <td>...</td>\n",
       "      <td>...</td>\n",
       "      <td>...</td>\n",
       "      <td>...</td>\n",
       "      <td>...</td>\n",
       "      <td>...</td>\n",
       "      <td>...</td>\n",
       "      <td>...</td>\n",
       "      <td>...</td>\n",
       "    </tr>\n",
       "    <tr>\n",
       "      <th>609</th>\n",
       "      <td>LP002978</td>\n",
       "      <td>1</td>\n",
       "      <td>0</td>\n",
       "      <td>0</td>\n",
       "      <td>0</td>\n",
       "      <td>0</td>\n",
       "      <td>2.194199</td>\n",
       "      <td>0.000000</td>\n",
       "      <td>1.663294</td>\n",
       "      <td>1.929908</td>\n",
       "      <td>0.526589</td>\n",
       "      <td>1</td>\n",
       "      <td>0</td>\n",
       "    </tr>\n",
       "    <tr>\n",
       "      <th>610</th>\n",
       "      <td>LP002979</td>\n",
       "      <td>0</td>\n",
       "      <td>1</td>\n",
       "      <td>3</td>\n",
       "      <td>0</td>\n",
       "      <td>0</td>\n",
       "      <td>2.232211</td>\n",
       "      <td>0.000000</td>\n",
       "      <td>1.550446</td>\n",
       "      <td>1.824307</td>\n",
       "      <td>0.526589</td>\n",
       "      <td>1</td>\n",
       "      <td>0</td>\n",
       "    </tr>\n",
       "    <tr>\n",
       "      <th>611</th>\n",
       "      <td>LP002983</td>\n",
       "      <td>0</td>\n",
       "      <td>1</td>\n",
       "      <td>1</td>\n",
       "      <td>0</td>\n",
       "      <td>0</td>\n",
       "      <td>2.302213</td>\n",
       "      <td>1.869461</td>\n",
       "      <td>1.877529</td>\n",
       "      <td>1.929908</td>\n",
       "      <td>0.526589</td>\n",
       "      <td>0</td>\n",
       "      <td>0</td>\n",
       "    </tr>\n",
       "    <tr>\n",
       "      <th>612</th>\n",
       "      <td>LP002984</td>\n",
       "      <td>0</td>\n",
       "      <td>1</td>\n",
       "      <td>2</td>\n",
       "      <td>0</td>\n",
       "      <td>0</td>\n",
       "      <td>2.295943</td>\n",
       "      <td>0.000000</td>\n",
       "      <td>1.830410</td>\n",
       "      <td>1.929908</td>\n",
       "      <td>0.526589</td>\n",
       "      <td>0</td>\n",
       "      <td>0</td>\n",
       "    </tr>\n",
       "    <tr>\n",
       "      <th>613</th>\n",
       "      <td>LP002990</td>\n",
       "      <td>1</td>\n",
       "      <td>0</td>\n",
       "      <td>0</td>\n",
       "      <td>0</td>\n",
       "      <td>1</td>\n",
       "      <td>2.243931</td>\n",
       "      <td>0.000000</td>\n",
       "      <td>1.774586</td>\n",
       "      <td>1.929908</td>\n",
       "      <td>0.000000</td>\n",
       "      <td>2</td>\n",
       "      <td>1</td>\n",
       "    </tr>\n",
       "  </tbody>\n",
       "</table>\n",
       "<p>614 rows × 13 columns</p>\n",
       "</div>"
      ],
      "text/plain": [
       "      Loan_ID  Gender  Married  Dependents  Education  Self_Employed  \\\n",
       "0    LP001002       0        0           0          0              0   \n",
       "1    LP001003       0        1           1          0              0   \n",
       "2    LP001005       0        1           0          0              1   \n",
       "3    LP001006       0        1           0          1              0   \n",
       "4    LP001008       0        0           0          0              0   \n",
       "..        ...     ...      ...         ...        ...            ...   \n",
       "609  LP002978       1        0           0          0              0   \n",
       "610  LP002979       0        1           3          0              0   \n",
       "611  LP002983       0        1           1          0              0   \n",
       "612  LP002984       0        1           2          0              0   \n",
       "613  LP002990       1        0           0          0              1   \n",
       "\n",
       "     ApplicantIncome  CoapplicantIncome  LoanAmount  Loan_Amount_Term  \\\n",
       "0           2.269462           0.000000    1.790631          1.929908   \n",
       "1           2.243931           2.118566    1.768118          1.929908   \n",
       "2           2.197969           0.000000    1.649561          1.929908   \n",
       "3           2.181219           2.170880    1.757132          1.929908   \n",
       "4           2.272093           0.000000    1.784370          1.929908   \n",
       "..               ...                ...         ...               ...   \n",
       "609         2.194199           0.000000    1.663294          1.929908   \n",
       "610         2.232211           0.000000    1.550446          1.824307   \n",
       "611         2.302213           1.869461    1.877529          1.929908   \n",
       "612         2.295943           0.000000    1.830410          1.929908   \n",
       "613         2.243931           0.000000    1.774586          1.929908   \n",
       "\n",
       "     Credit_History  Property_Area  Loan_Status  \n",
       "0          0.526589              0            0  \n",
       "1          0.526589              1            1  \n",
       "2          0.526589              0            0  \n",
       "3          0.526589              0            0  \n",
       "4          0.526589              0            0  \n",
       "..              ...            ...          ...  \n",
       "609        0.526589              1            0  \n",
       "610        0.526589              1            0  \n",
       "611        0.526589              0            0  \n",
       "612        0.526589              0            0  \n",
       "613        0.000000              2            1  \n",
       "\n",
       "[614 rows x 13 columns]"
      ]
     },
     "execution_count": 79,
     "metadata": {},
     "output_type": "execute_result"
    }
   ],
   "source": [
    "train"
   ]
  },
  {
   "cell_type": "code",
   "execution_count": 80,
   "id": "72ebb1ac",
   "metadata": {},
   "outputs": [],
   "source": [
    "from sklearn.feature_selection import SelectKBest\n",
    "from sklearn.feature_selection import f_regression\n",
    "\n",
    "X = train[['Gender', 'Married', 'Dependents', 'Education',\n",
    "       'Self_Employed', 'ApplicantIncome', 'CoapplicantIncome','Loan_Status',\n",
    "       'Loan_Amount_Term', 'Credit_History', 'Property_Area']]  #independent columns\n",
    "y = train['LoanAmount']\n",
    "\n",
    "def select_features(X_train, y_train, X_test):\n",
    "\t# configure to select all features\n",
    "\tfs = SelectKBest(score_func=f_regression, k='all')\n",
    "\t# learn relationship from training data\n",
    "\tfs.fit(X_train, y_train)\n",
    "\t# transform train input data\n",
    "\tX_train_fs = fs.transform(X_train)\n",
    "\t# transform test input data\n",
    "\tX_test_fs = fs.transform(X_test)\n",
    "\treturn X_train_fs, X_test_fs, fs"
   ]
  },
  {
   "cell_type": "code",
   "execution_count": 81,
   "id": "54ad6e7d",
   "metadata": {},
   "outputs": [
    {
     "name": "stdout",
     "output_type": "stream",
     "text": [
      "Feature 0: 1.016750\n",
      "Feature 1: 17.320735\n",
      "Feature 2: 12.376072\n",
      "Feature 3: 7.763280\n",
      "Feature 4: 4.868938\n",
      "Feature 5: 101.448198\n",
      "Feature 6: 5.963382\n",
      "Feature 7: 0.016864\n",
      "Feature 8: 4.673693\n",
      "Feature 9: 1.745239\n",
      "Feature 10: 2.367791\n"
     ]
    },
    {
     "data": {
      "image/png": "[encoded data removed]",
      "text/plain": [
       "<Figure size 432x288 with 1 Axes>"
      ]
     },
     "metadata": {
      "needs_background": "light"
     },
     "output_type": "display_data"
    }
   ],
   "source": [
    "from matplotlib import pyplot\n",
    "\n",
    "X_train, X_test, y_train, y_test = train_test_split(X, y, test_size=0.33, random_state=1)\n",
    "# feature selection\n",
    "X_train_fs, X_test_fs, fs = select_features(X_train, y_train, X_test)\n",
    "# what are scores for the features\n",
    "for i in range(len(fs.scores_)):\n",
    "\tprint('Feature %d: %f' % (i, fs.scores_[i]))\n",
    "# plot the scores\n",
    "pyplot.bar([i for i in range(len(fs.scores_))], fs.scores_)\n",
    "pyplot.show()"
   ]
  },
  {
   "cell_type": "code",
   "execution_count": 111,
   "id": "3cdaecb9",
   "metadata": {},
   "outputs": [],
   "source": []
  },
  {
   "cell_type": "code",
   "execution_count": 82,
   "id": "e7b6e7f8",
   "metadata": {},
   "outputs": [],
   "source": [
    "from sklearn.linear_model import Ridge\n",
    "from sklearn.linear_model import LinearRegression\n",
    "from sklearn.preprocessing import PolynomialFeatures\n"
   ]
  },
  {
   "cell_type": "markdown",
   "id": "efb66c96",
   "metadata": {},
   "source": [
    "### linear"
   ]
  },
  {
   "cell_type": "code",
   "execution_count": 83,
   "id": "a071914e",
   "metadata": {},
   "outputs": [],
   "source": [
    "X = train[['Married','Dependents','Education','Self_Employed','ApplicantIncome','CoapplicantIncome']].values\n"
   ]
  },
  {
   "cell_type": "code",
   "execution_count": 84,
   "id": "e95bb1a2",
   "metadata": {},
   "outputs": [
    {
     "data": {
      "text/plain": [
       "array([[0.        , 0.        , 0.        , 0.        , 2.26946223,\n",
       "        0.        ],\n",
       "       [1.        , 1.        , 0.        , 0.        , 2.2439308 ,\n",
       "        2.11856639],\n",
       "       [1.        , 0.        , 0.        , 1.        , 2.19796884,\n",
       "        0.        ],\n",
       "       ...,\n",
       "       [1.        , 1.        , 0.        , 0.        , 2.30221307,\n",
       "        1.8694605 ],\n",
       "       [1.        , 2.        , 0.        , 0.        , 2.29594269,\n",
       "        0.        ],\n",
       "       [0.        , 0.        , 0.        , 1.        , 2.2439308 ,\n",
       "        0.        ]])"
      ]
     },
     "execution_count": 84,
     "metadata": {},
     "output_type": "execute_result"
    }
   ],
   "source": [
    "X"
   ]
  },
  {
   "cell_type": "code",
   "execution_count": 86,
   "id": "e685c493",
   "metadata": {},
   "outputs": [
    {
     "data": {
      "text/plain": [
       "array([1.79063091, 1.76811759, 1.64956065, 1.75713189, 1.78437008,\n",
       "       1.88570311, 1.71637985, 1.80317806, 1.81317823, 1.92540611,\n",
       "       1.66064038, 1.74055045, 1.84107408, 1.7483181 , 1.35850472,\n",
       "       1.76409393, 1.72546305, 1.67593802, 1.77458615, 1.74982404,\n",
       "       1.73235625, 1.91039284, 1.75131482, 1.74525955, 1.79573166,\n",
       "       1.83378   , 1.75995646, 1.74213674, 1.52246703, 1.75713189,\n",
       "       1.84186111, 1.67100103, 1.73568791, 1.7483181 , 1.91271393,\n",
       "       1.79063091, 1.72546305, 1.78787422, 1.82782711, 1.74213674,\n",
       "       1.68537049, 1.58334052, 1.67348882, 1.77584598, 1.71824047,\n",
       "       1.70267984, 1.57000297, 1.78787422, 1.75713189, 1.78787422,\n",
       "       1.72546305, 1.75713189, 1.74525955, 1.77584598, 1.89604174,\n",
       "       1.72007861, 1.71824047, 1.77709495, 1.82430685, 1.78787422,\n",
       "       1.75713189, 1.72368942, 1.81025205, 1.79063091, 1.75131482,\n",
       "       1.88050696, 1.76544751, 1.90897986, 1.76409393, 1.77833323,\n",
       "       1.81698716, 1.72007861, 1.68764249, 1.71637985, 1.83040982,\n",
       "       1.7467967 , 1.82069506, 1.74213674, 1.82430685, 1.77073965,\n",
       "       1.74370634, 1.79063091, 1.8122096 , 1.88456596, 1.59570923,\n",
       "       1.77833323, 1.72368942, 1.73235625, 1.84874739, 1.81977728,\n",
       "       1.77203317, 1.83126011, 1.68764249, 1.75995646, 1.44882224,\n",
       "       1.79063091, 1.77956098, 1.59570923, 1.74982404, 1.77203317,\n",
       "       1.77458615, 1.79573166, 1.79063091, 1.79063091, 1.80523565,\n",
       "       1.72546305, 1.85950145, 1.75713189, 1.85315201, 1.71449622,\n",
       "       1.77833323, 1.7819856 , 1.79681963, 1.79063091, 1.75425203,\n",
       "       1.82869338, 1.79897092, 1.69641296, 1.81977728, 1.8810945 ,\n",
       "       1.82430685, 1.57000297, 1.77956098, 1.68764249, 1.83625464,\n",
       "       1.71258905, 1.93386678, 1.79063091, 1.80523565, 1.82607815,\n",
       "       2.01203353, 1.67100103, 1.66064038, 1.44882224, 1.72894905,\n",
       "       1.89811798, 1.69426631, 1.70267984, 1.87073414, 1.76943452,\n",
       "       1.82869338, 1.81317823, 1.81977728, 1.75995646, 1.83040982,\n",
       "       1.72546305, 1.66064038, 1.48929923, 1.85950145, 1.76409393,\n",
       "       1.75425203, 1.79681963, 1.87199573, 1.7467967 , 1.59570923,\n",
       "       2.00129011, 1.80523565, 1.83040982, 1.75713189, 1.87872851,\n",
       "       1.72189476, 1.89015592, 1.75855096, 1.80317806, 1.67348882,\n",
       "       1.82607815, 1.74525955, 1.76943452, 1.6407201 , 1.84107408,\n",
       "       1.71637985, 2.02187968, 1.68764249, 1.83040982, 1.700619  ,\n",
       "       1.75131482, 1.72721611, 1.97499393, 1.75131482, 1.72894905,\n",
       "       1.82430685, 1.65240309, 1.66847353, 1.88167945, 1.73894711,\n",
       "       1.75713189, 1.64956065, 1.62482639, 1.81317823, 1.83126011,\n",
       "       1.58756448, 1.80926296, 1.80523565, 1.67593802, 1.75713189,\n",
       "       1.81509564, 1.83040982, 1.75713189, 1.7467967 , 1.69208955,\n",
       "       1.7067206 , 1.81123423, 1.79063091, 1.77709495, 1.76272772,\n",
       "       1.75713189, 1.68537049, 1.61449544, 1.62813102, 1.76678865,\n",
       "       1.85169963, 1.76811759, 1.8694605 , 1.77073965, 1.77956098,\n",
       "       1.72546305, 1.77709495, 1.77203317, 1.66590509, 1.76678865,\n",
       "       1.6313704 , 1.75131482, 1.78787422, 1.81977728, 1.76811759,\n",
       "       1.81509564, 1.78077839, 1.84874739, 1.80317806, 1.84107408,\n",
       "       1.73235625, 1.56049976, 1.75713189, 1.89286414, 1.78318278,\n",
       "       1.81509564, 1.87872851, 1.75995646, 1.74525955, 1.71824047,\n",
       "       1.75713189, 1.78318278, 1.80003447, 1.73894711, 1.76134864,\n",
       "       1.75713189, 1.74525955, 1.77956098, 1.76134864, 1.7067206 ,\n",
       "       1.84186111, 1.78077839, 1.73235625, 1.89232696, 1.83460984,\n",
       "       1.87872851, 1.74982404, 1.71449622, 1.90513455, 1.76811759,\n",
       "       1.91723409, 1.77584598, 1.80003447, 1.75713189, 1.76811759,\n",
       "       1.79573166, 1.7946353 , 1.80523565, 1.77709495, 1.7067206 ,\n",
       "       1.48929923, 1.77833323, 1.76544751, 1.7946353 , 1.7067206 ,\n",
       "       1.74982404, 1.84649038, 1.68537049, 1.95726447, 1.76272772,\n",
       "       1.80317806, 1.74525955, 1.68072508, 1.61090348, 1.79063091,\n",
       "       1.70471349, 1.72368942, 1.75713189, 1.74982404, 1.83040982,\n",
       "       1.7819856 , 1.76678865, 1.77584598, 1.78671565, 1.81698716,\n",
       "       1.74213674, 1.84107408, 1.77709495, 1.79573166, 1.7467967 ,\n",
       "       1.71258905, 1.73403132, 1.77331527, 1.71824047, 1.78318278,\n",
       "       1.79063091, 1.77709495, 1.73235625, 1.97072363, 1.82869338,\n",
       "       1.69426631, 1.74370634, 1.61801131, 1.78787422, 1.8042106 ,\n",
       "       1.74370634, 1.75713189, 1.70267984, 1.74525955, 1.80003447,\n",
       "       1.74982404, 1.76272772, 1.79063091, 1.77331527, 1.9031682 ,\n",
       "       1.93618374, 1.77073965, 1.82782711, 1.74213674, 1.65240309,\n",
       "       1.75279073, 1.72189476, 1.66329448, 1.97358703, 1.82607815,\n",
       "       1.66064038, 1.80523565, 1.82069506, 1.79063091, 1.66329448,\n",
       "       1.81792341, 1.57900914, 1.80317806, 1.67100103, 1.76409393,\n",
       "       1.80523565, 1.79681963, 1.76544751, 1.8810945 , 1.83040982,\n",
       "       1.86155322, 1.9070715 , 1.71637985, 1.73403132, 1.77073965,\n",
       "       1.75131482, 1.81025205, 1.65240309, 1.72546305, 1.84107408,\n",
       "       1.68764249, 1.86687624, 1.77073965, 1.71637985, 1.78437008,\n",
       "       1.77458615, 1.71824047, 1.76272772, 1.81977728, 1.99434504,\n",
       "       1.61449544, 1.80003447, 1.93770506, 1.74370634, 1.74213674,\n",
       "       1.75713189, 1.77073965, 1.77073965, 1.66329448, 1.77073965,\n",
       "       1.76811759, 1.90117159, 1.8010901 , 1.76811759, 1.72546305,\n",
       "       1.7467967 , 1.77331527, 1.79063091, 1.77833323, 1.76409393,\n",
       "       1.82869338, 1.89015592, 1.75713189, 1.7467967 , 1.7467967 ,\n",
       "       1.77709495, 1.66329448, 1.71637985, 1.74055045, 1.73066229,\n",
       "       1.57456514, 1.64666717, 1.73066229, 1.60723229, 1.83625464,\n",
       "       1.74982404, 1.74982404, 1.64956065, 1.79681963, 1.92990822,\n",
       "       1.63766276, 1.80523565, 1.85458899, 1.74213674, 1.82251267,\n",
       "       1.6313704 , 1.80523565, 1.8688191 , 1.74525955, 1.78077839,\n",
       "       1.78077839, 1.68537049, 1.72546305, 1.74213674, 1.71824047,\n",
       "       1.75855096, 1.68764249, 1.77458615, 1.700619  , 1.6313704 ,\n",
       "       1.7946353 , 1.73403132, 1.94681733, 1.78671565, 1.72546305,\n",
       "       1.79063091, 1.59570923, 1.79063091, 1.83040982, 1.78077839,\n",
       "       1.83040982, 1.82430685, 1.79241697, 1.79681963, 1.81977728,\n",
       "       1.77073965, 1.74213674, 1.61449544, 1.7946353 , 1.83294515,\n",
       "       1.76409393, 1.6313704 , 1.79353045, 1.7067206 , 1.69426631,\n",
       "       1.71824047, 1.75425203, 1.81792341, 1.77833323, 1.80523565,\n",
       "       1.80523565, 1.76811759, 1.79789935, 1.77331527, 1.72189476,\n",
       "       1.78318278, 1.66064038, 1.74213674, 1.72189476, 1.74213674,\n",
       "       1.80726369, 1.7467967 , 1.72546305, 1.71258905, 1.80726369,\n",
       "       1.7946353 , 1.86290389, 1.77331527, 1.69853028, 1.79063091,\n",
       "       1.79897092, 1.7467967 , 1.76811759, 1.86556515, 1.87324549,\n",
       "       1.77203317, 1.68537049, 1.97638477, 1.80523565, 1.67348882,\n",
       "       1.71824047, 1.82955427, 1.74213674, 1.85950145, 1.75569899,\n",
       "       1.73403132, 1.73732638, 1.74370634, 1.71637985, 1.8479992 ,\n",
       "       1.7467967 , 1.72546305, 1.84724688, 1.78077839, 1.76272772,\n",
       "       1.87136642, 1.97072363, 1.71824047, 1.83126011, 1.55044602,\n",
       "       1.72546305, 1.87571037, 1.79241697, 1.66064038, 1.9085054 ,\n",
       "       1.7946353 , 1.7467967 , 1.76134864, 1.82869338, 1.71637985,\n",
       "       1.57456514, 1.61449544, 1.72546305, 1.97072363, 1.79063091,\n",
       "       1.94504712, 1.74213674, 1.80625331, 1.71449622, 1.77073965,\n",
       "       1.85315201, 1.72546305, 1.74213674, 1.83788   , 1.76409393,\n",
       "       1.76544751, 1.91454113, 1.73732638, 1.64956065, 1.80213793,\n",
       "       1.78318278, 1.72368942, 1.71637985, 1.76811759, 1.72894905,\n",
       "       1.80003447, 1.68537049, 1.7890235 , 1.73066229, 1.74213674,\n",
       "       1.79063091, 1.79063091, 1.80317806, 1.82519532, 1.77331527,\n",
       "       1.45764638, 1.69426631, 1.88167945, 1.80726369, 1.82607815,\n",
       "       1.73894711, 2.00129011, 1.84949148, 1.77331527, 1.88050696,\n",
       "       1.75713189, 1.66064038, 1.76134864, 1.19470552, 1.73235625,\n",
       "       1.82955427, 1.81025205, 1.89015592, 1.83040982, 1.7946353 ,\n",
       "       1.73894711, 1.77833323, 1.74213674, 1.73732638, 1.80625331,\n",
       "       1.84496466, 1.7067206 , 1.52842695, 1.6345469 , 1.79016363,\n",
       "       1.81698716, 1.73235625, 1.66064038, 1.71449622, 1.73568791,\n",
       "       1.61801131, 1.84496466, 1.89914383, 1.78554765, 1.88167945,\n",
       "       1.74213674, 1.83040982, 1.70267984, 1.82430685, 1.83460984,\n",
       "       1.92582205, 1.80003447, 1.76811759, 1.81698716, 1.97527337,\n",
       "       1.79063091, 1.81792341, 1.80213793, 1.73894711, 1.66329448,\n",
       "       1.55044602, 1.87752948, 1.83040982, 1.77458615])"
      ]
     },
     "execution_count": 86,
     "metadata": {},
     "output_type": "execute_result"
    }
   ],
   "source": [
    "Y = train['LoanAmount'].values\n",
    "Y"
   ]
  },
  {
   "cell_type": "code",
   "execution_count": 101,
   "id": "5d15f52c",
   "metadata": {},
   "outputs": [],
   "source": [
    "from sklearn.model_selection import train_test_split\n",
    "X_train, X_test, y_train, y_test = train_test_split(X, Y, test_size=0.2, random_state=0)"
   ]
  },
  {
   "cell_type": "code",
   "execution_count": 102,
   "id": "cd2940e6",
   "metadata": {},
   "outputs": [
    {
     "data": {
      "text/plain": [
       "LinearRegression()"
      ]
     },
     "execution_count": 102,
     "metadata": {},
     "output_type": "execute_result"
    }
   ],
   "source": [
    "regressor = LinearRegression()\n",
    "regressor.fit(X_train, y_train)"
   ]
  },
  {
   "cell_type": "code",
   "execution_count": 103,
   "id": "c2ba60fc",
   "metadata": {},
   "outputs": [
    {
     "data": {
      "text/html": [
       "<div>\n",
       "<style scoped>\n",
       "    .dataframe tbody tr th:only-of-type {\n",
       "        vertical-align: middle;\n",
       "    }\n",
       "\n",
       "    .dataframe tbody tr th {\n",
       "        vertical-align: top;\n",
       "    }\n",
       "\n",
       "    .dataframe thead th {\n",
       "        text-align: right;\n",
       "    }\n",
       "</style>\n",
       "<table border=\"1\" class=\"dataframe\">\n",
       "  <thead>\n",
       "    <tr style=\"text-align: right;\">\n",
       "      <th></th>\n",
       "      <th>Actual</th>\n",
       "      <th>Predicted</th>\n",
       "    </tr>\n",
       "  </thead>\n",
       "  <tbody>\n",
       "    <tr>\n",
       "      <th>0</th>\n",
       "      <td>1.694266</td>\n",
       "      <td>1.767329</td>\n",
       "    </tr>\n",
       "    <tr>\n",
       "      <th>1</th>\n",
       "      <td>1.745260</td>\n",
       "      <td>1.725093</td>\n",
       "    </tr>\n",
       "    <tr>\n",
       "      <th>2</th>\n",
       "      <td>1.914541</td>\n",
       "      <td>1.816887</td>\n",
       "    </tr>\n",
       "    <tr>\n",
       "      <th>3</th>\n",
       "      <td>1.742137</td>\n",
       "      <td>1.791813</td>\n",
       "    </tr>\n",
       "    <tr>\n",
       "      <th>4</th>\n",
       "      <td>1.720079</td>\n",
       "      <td>1.771646</td>\n",
       "    </tr>\n",
       "    <tr>\n",
       "      <th>...</th>\n",
       "      <td>...</td>\n",
       "      <td>...</td>\n",
       "    </tr>\n",
       "    <tr>\n",
       "      <th>118</th>\n",
       "      <td>1.820695</td>\n",
       "      <td>1.776804</td>\n",
       "    </tr>\n",
       "    <tr>\n",
       "      <th>119</th>\n",
       "      <td>1.770740</td>\n",
       "      <td>1.864486</td>\n",
       "    </tr>\n",
       "    <tr>\n",
       "      <th>120</th>\n",
       "      <td>1.957264</td>\n",
       "      <td>1.817177</td>\n",
       "    </tr>\n",
       "    <tr>\n",
       "      <th>121</th>\n",
       "      <td>1.660640</td>\n",
       "      <td>1.774124</td>\n",
       "    </tr>\n",
       "    <tr>\n",
       "      <th>122</th>\n",
       "      <td>1.718240</td>\n",
       "      <td>1.726531</td>\n",
       "    </tr>\n",
       "  </tbody>\n",
       "</table>\n",
       "<p>123 rows × 2 columns</p>\n",
       "</div>"
      ],
      "text/plain": [
       "       Actual  Predicted\n",
       "0    1.694266   1.767329\n",
       "1    1.745260   1.725093\n",
       "2    1.914541   1.816887\n",
       "3    1.742137   1.791813\n",
       "4    1.720079   1.771646\n",
       "..        ...        ...\n",
       "118  1.820695   1.776804\n",
       "119  1.770740   1.864486\n",
       "120  1.957264   1.817177\n",
       "121  1.660640   1.774124\n",
       "122  1.718240   1.726531\n",
       "\n",
       "[123 rows x 2 columns]"
      ]
     },
     "execution_count": 103,
     "metadata": {},
     "output_type": "execute_result"
    }
   ],
   "source": [
    "y_pred = regressor.predict(X_test)\n",
    "COMPARE = pd.DataFrame({'Actual': y_test, 'Predicted': y_pred})\n",
    "COMPARE"
   ]
  },
  {
   "cell_type": "code",
   "execution_count": 104,
   "id": "f8f7f8f4",
   "metadata": {},
   "outputs": [
    {
     "name": "stdout",
     "output_type": "stream",
     "text": [
      "Mean Absolute Error: 0.04784888192542166\n",
      "Mean Squared Error: 0.004275244810843327\n",
      "Root Mean Squared Error: 0.06538535624161824\n"
     ]
    }
   ],
   "source": [
    "from sklearn import metrics\n",
    "print('Mean Absolute Error:', metrics.mean_absolute_error(y_test, y_pred))\n",
    "print('Mean Squared Error:', metrics.mean_squared_error(y_test, y_pred))\n",
    "print('Root Mean Squared Error:', np.sqrt(metrics.mean_squared_error(y_test, y_pred)))"
   ]
  },
  {
   "cell_type": "code",
   "execution_count": 108,
   "id": "40587804",
   "metadata": {},
   "outputs": [],
   "source": [
    "# import matplotlib.pyplot as plt\n",
    "# %matplotlib inline\n",
    "# plt.scatter(X_train,y_train,color='red')\n",
    "# plt.plot(x_train,regressor.predict(X_test),color='blue')\n",
    "# plt.title('Truth or bluff(Linear Regression)')\n",
    "# plt.xlabel('Position Level')\n",
    "# plt.ylabel('Salary')\n",
    "# plt.show()"
   ]
  },
  {
   "cell_type": "markdown",
   "id": "8c761beb",
   "metadata": {},
   "source": [
    "## RIDGE"
   ]
  },
  {
   "cell_type": "code",
   "execution_count": 94,
   "id": "8e5d1ae7",
   "metadata": {},
   "outputs": [
    {
     "name": "stdout",
     "output_type": "stream",
     "text": [
      "Mean Absolute Error: 0.04947748984402544\n",
      "Mean Squared Error: 0.004623279612181448\n",
      "Root Mean Squared Error: 0.06799470282442191\n"
     ]
    }
   ],
   "source": [
    "ridge = Ridge(alpha=1.0)\n",
    "ridge.fit(X_train, y_train)\n",
    "y_pred = ridge.predict(X_test)\n",
    "print('Mean Absolute Error:', metrics.mean_absolute_error(y_test, y_pred))\n",
    "print('Mean Squared Error:', metrics.mean_squared_error(y_test, y_pred))\n",
    "print('Root Mean Squared Error:', np.sqrt(metrics.mean_squared_error(y_test, y_pred)))"
   ]
  },
  {
   "cell_type": "markdown",
   "id": "391b0fac",
   "metadata": {},
   "source": [
    "## lasso"
   ]
  },
  {
   "cell_type": "code",
   "execution_count": 96,
   "id": "fae6db1f",
   "metadata": {},
   "outputs": [
    {
     "name": "stdout",
     "output_type": "stream",
     "text": [
      "Mean Absolute Error: 0.055661032530882\n",
      "Mean Squared Error: 0.006077424869406157\n",
      "Root Mean Squared Error: 0.07795784033313236\n"
     ]
    }
   ],
   "source": [
    "from sklearn import linear_model\n",
    "lasso= linear_model.Lasso(alpha=0.1)\n",
    "lasso.fit(X_train, y_train)\n",
    "y_pred = lasso.predict(X_test)\n",
    "print('Mean Absolute Error:', metrics.mean_absolute_error(y_test, y_pred))\n",
    "print('Mean Squared Error:', metrics.mean_squared_error(y_test, y_pred))\n",
    "print('Root Mean Squared Error:', np.sqrt(metrics.mean_squared_error(y_test, y_pred)))"
   ]
  },
  {
   "cell_type": "markdown",
   "id": "2a3098a3",
   "metadata": {},
   "source": [
    "### Polynomial"
   ]
  },
  {
   "cell_type": "code",
   "execution_count": 110,
   "id": "083a724a",
   "metadata": {},
   "outputs": [
    {
     "data": {
      "text/plain": [
       "LinearRegression()"
      ]
     },
     "execution_count": 110,
     "metadata": {},
     "output_type": "execute_result"
    }
   ],
   "source": [
    "from sklearn.preprocessing import PolynomialFeatures\n",
    "poly_reg=PolynomialFeatures(degree=4)\n",
    "X_poly=poly_reg.fit_transform(X_test)\n",
    "poly_reg.fit(X_poly,y_test)\n",
    "lin_reg2=LinearRegression()\n",
    "lin_reg2.fit(X_poly,y_test)\n",
    "y_pred = lasso.predict(X_test)\n",
    "print('Mean Absolute Error:', metrics.mean_absolute_error(y_test, y_pred))\n",
    "print('Mean Squared Error:', metrics.mean_squared_error(y_test, y_pred))\n",
    "print('Root Mean Squared Error:', np.sqrt(metrics.mean_squared_error(y_test, y_pred)))"
   ]
  },
  {
   "cell_type": "code",
   "execution_count": null,
   "id": "5e89b0c6",
   "metadata": {},
   "outputs": [],
   "source": []
  }
 ],
 "metadata": {
  "kernelspec": {
   "display_name": "dataengineering",
   "language": "python",
   "name": "dataengineering"
  },
  "language_info": {
   "codemirror_mode": {
    "name": "ipython",
    "version": 3
   },
   "file_extension": ".py",
   "mimetype": "text/x-python",
   "name": "python",
   "nbconvert_exporter": "python",
   "pygments_lexer": "ipython3",
   "version": "3.9.8"
  }
 },
 "nbformat": 4,
 "nbformat_minor": 5
}
